{
 "cells": [
  {
   "cell_type": "code",
   "execution_count": 4,
   "metadata": {},
   "outputs": [],
   "source": [
    "import ipywidgets as widgets\n",
    "from sympy import *\n",
    "r, q, v, B, m, x = var('r q v B m x')"
   ]
  },
  {
   "cell_type": "code",
   "execution_count": 5,
   "metadata": {},
   "outputs": [],
   "source": [
    "from IPython.display import Markdown, display\n",
    "init_printing()\n",
    "def printmd(string):\n",
    "    display(Markdown(string))\n",
    "    \n"
   ]
  },
  {
   "cell_type": "code",
   "execution_count": 6,
   "metadata": {},
   "outputs": [
    {
     "data": {
      "text/markdown": [
       "PLASMA CALCULATOR"
      ],
      "text/plain": [
       "<IPython.core.display.Markdown object>"
      ]
     },
     "metadata": {},
     "output_type": "display_data"
    },
    {
     "name": "stdout",
     "output_type": "stream",
     "text": [
      "-- Larmor radius --\n"
     ]
    },
    {
     "data": {
      "image/png": "[encoded data removed]",
      "text/latex": [
       "$$r = \\frac{m v}{B q}$$"
      ],
      "text/plain": [
       "    m⋅v\n",
       "r = ───\n",
       "    B⋅q"
      ]
     },
     "metadata": {},
     "output_type": "display_data"
    },
    {
     "name": "stdout",
     "output_type": "stream",
     "text": [
      "1.6726e-27\n",
      "1.6e-19\n",
      "1.0\n",
      "0.0001\n",
      "0.00010453750000000001\n"
     ]
    },
    {
     "data": {
      "application/vnd.jupyter.widget-view+json": {
       "model_id": "5c5e9d1dbe32454eb16817d4ef20f26d",
       "version_major": 2,
       "version_minor": 0
      },
      "text/html": [
       "<p>Failed to display Jupyter Widget of type <code>Text</code>.</p>\n",
       "<p>\n",
       "  If you're reading this message in the Jupyter Notebook or JupyterLab Notebook, it may mean\n",
       "  that the widgets JavaScript is still loading. If this message persists, it\n",
       "  likely means that the widgets JavaScript library is either not installed or\n",
       "  not enabled. See the <a href=\"https://ipywidgets.readthedocs.io/en/stable/user_install.html\">Jupyter\n",
       "  Widgets Documentation</a> for setup instructions.\n",
       "</p>\n",
       "<p>\n",
       "  If you're reading this message in another frontend (for example, a static\n",
       "  rendering on GitHub or <a href=\"https://nbviewer.jupyter.org/\">NBViewer</a>),\n",
       "  it may mean that your frontend doesn't currently support widgets.\n",
       "</p>\n"
      ],
      "text/plain": [
       "Text(value='1.', description='mass [mp]')"
      ]
     },
     "metadata": {},
     "output_type": "display_data"
    },
    {
     "data": {
      "application/vnd.jupyter.widget-view+json": {
       "model_id": "c3d90ebbf9454d9ab901e597a89525ef",
       "version_major": 2,
       "version_minor": 0
      },
      "text/html": [
       "<p>Failed to display Jupyter Widget of type <code>Text</code>.</p>\n",
       "<p>\n",
       "  If you're reading this message in the Jupyter Notebook or JupyterLab Notebook, it may mean\n",
       "  that the widgets JavaScript is still loading. If this message persists, it\n",
       "  likely means that the widgets JavaScript library is either not installed or\n",
       "  not enabled. See the <a href=\"https://ipywidgets.readthedocs.io/en/stable/user_install.html\">Jupyter\n",
       "  Widgets Documentation</a> for setup instructions.\n",
       "</p>\n",
       "<p>\n",
       "  If you're reading this message in another frontend (for example, a static\n",
       "  rendering on GitHub or <a href=\"https://nbviewer.jupyter.org/\">NBViewer</a>),\n",
       "  it may mean that your frontend doesn't currently support widgets.\n",
       "</p>\n"
      ],
      "text/plain": [
       "Text(value='1.', description='Charge [e]')"
      ]
     },
     "metadata": {},
     "output_type": "display_data"
    },
    {
     "data": {
      "application/vnd.jupyter.widget-view+json": {
       "model_id": "c4f1ff67a19445e384c2269fe840d0d8",
       "version_major": 2,
       "version_minor": 0
      },
      "text/html": [
       "<p>Failed to display Jupyter Widget of type <code>Text</code>.</p>\n",
       "<p>\n",
       "  If you're reading this message in the Jupyter Notebook or JupyterLab Notebook, it may mean\n",
       "  that the widgets JavaScript is still loading. If this message persists, it\n",
       "  likely means that the widgets JavaScript library is either not installed or\n",
       "  not enabled. See the <a href=\"https://ipywidgets.readthedocs.io/en/stable/user_install.html\">Jupyter\n",
       "  Widgets Documentation</a> for setup instructions.\n",
       "</p>\n",
       "<p>\n",
       "  If you're reading this message in another frontend (for example, a static\n",
       "  rendering on GitHub or <a href=\"https://nbviewer.jupyter.org/\">NBViewer</a>),\n",
       "  it may mean that your frontend doesn't currently support widgets.\n",
       "</p>\n"
      ],
      "text/plain": [
       "Text(value='1.', description='Velocity [km/s]')"
      ]
     },
     "metadata": {},
     "output_type": "display_data"
    },
    {
     "data": {
      "application/vnd.jupyter.widget-view+json": {
       "model_id": "3c5ada27800a49a4b2103274454ad8ba",
       "version_major": 2,
       "version_minor": 0
      },
      "text/html": [
       "<p>Failed to display Jupyter Widget of type <code>Text</code>.</p>\n",
       "<p>\n",
       "  If you're reading this message in the Jupyter Notebook or JupyterLab Notebook, it may mean\n",
       "  that the widgets JavaScript is still loading. If this message persists, it\n",
       "  likely means that the widgets JavaScript library is either not installed or\n",
       "  not enabled. See the <a href=\"https://ipywidgets.readthedocs.io/en/stable/user_install.html\">Jupyter\n",
       "  Widgets Documentation</a> for setup instructions.\n",
       "</p>\n",
       "<p>\n",
       "  If you're reading this message in another frontend (for example, a static\n",
       "  rendering on GitHub or <a href=\"https://nbviewer.jupyter.org/\">NBViewer</a>),\n",
       "  it may mean that your frontend doesn't currently support widgets.\n",
       "</p>\n"
      ],
      "text/plain": [
       "Text(value='1.', description='Magnetic field [10-4 T]')"
      ]
     },
     "metadata": {},
     "output_type": "display_data"
    },
    {
     "data": {
      "application/vnd.jupyter.widget-view+json": {
       "model_id": "cc0b45da58c94a0c8eba65bfaf6d6897",
       "version_major": 2,
       "version_minor": 0
      },
      "text/html": [
       "<p>Failed to display Jupyter Widget of type <code>Button</code>.</p>\n",
       "<p>\n",
       "  If you're reading this message in the Jupyter Notebook or JupyterLab Notebook, it may mean\n",
       "  that the widgets JavaScript is still loading. If this message persists, it\n",
       "  likely means that the widgets JavaScript library is either not installed or\n",
       "  not enabled. See the <a href=\"https://ipywidgets.readthedocs.io/en/stable/user_install.html\">Jupyter\n",
       "  Widgets Documentation</a> for setup instructions.\n",
       "</p>\n",
       "<p>\n",
       "  If you're reading this message in another frontend (for example, a static\n",
       "  rendering on GitHub or <a href=\"https://nbviewer.jupyter.org/\">NBViewer</a>),\n",
       "  it may mean that your frontend doesn't currently support widgets.\n",
       "</p>\n"
      ],
      "text/plain": [
       "Button(description='Calculate', style=ButtonStyle())"
      ]
     },
     "metadata": {},
     "output_type": "display_data"
    },
    {
     "data": {
      "application/vnd.jupyter.widget-view+json": {
       "model_id": "8af777022f764d8faa5cf9582363ed59",
       "version_major": 2,
       "version_minor": 0
      },
      "text/html": [
       "<p>Failed to display Jupyter Widget of type <code>Text</code>.</p>\n",
       "<p>\n",
       "  If you're reading this message in the Jupyter Notebook or JupyterLab Notebook, it may mean\n",
       "  that the widgets JavaScript is still loading. If this message persists, it\n",
       "  likely means that the widgets JavaScript library is either not installed or\n",
       "  not enabled. See the <a href=\"https://ipywidgets.readthedocs.io/en/stable/user_install.html\">Jupyter\n",
       "  Widgets Documentation</a> for setup instructions.\n",
       "</p>\n",
       "<p>\n",
       "  If you're reading this message in another frontend (for example, a static\n",
       "  rendering on GitHub or <a href=\"https://nbviewer.jupyter.org/\">NBViewer</a>),\n",
       "  it may mean that your frontend doesn't currently support widgets.\n",
       "</p>\n"
      ],
      "text/plain": [
       "Text(value='0.', description='Larmor radius [km]')"
      ]
     },
     "metadata": {},
     "output_type": "display_data"
    }
   ],
   "source": [
    "printmd('PLASMA CALCULATOR')\n",
    "print('-- Larmor radius --')\n",
    "\n",
    "\n",
    "#constants\n",
    "mp=1.6726e-27 #proton mass kg\n",
    "ec = 1.6e-19 # C\n",
    "\n",
    "\n",
    "eq=Eq(r,m*v/(q*B))\n",
    "display(eq)\n",
    "\n",
    "wT1=widgets.Text(value='1.', description='mass [mp]' ,disabled=False)\n",
    "wt2=widgets.Text(value='1.', description='Charge [e]', disabled=False)\n",
    "wt3=widgets.Text(value='1.',description='Velocity [km/s]', disabled=False)\n",
    "wt4=widgets.Text(value='1.',description='Magnetic field [10-4 T]', disabled=False)\n",
    "\n",
    "wTr=widgets.Text(value='0.', description='Larmor radius [km]' ,disabled=False)\n",
    "\n",
    "\n",
    "\n",
    "mass = float(wT1.value) * mp\n",
    "print(mass)\n",
    "charge = float(wt2.value) * ec\n",
    "print(charge)\n",
    "vel = float(wt3.value)\n",
    "print(vel)\n",
    "bfield = float(wt4.value) * 1.0e-4\n",
    "print(bfield)\n",
    "\n",
    "rL= mass * vel/(charge * bfield)\n",
    "print(rL)\n",
    "\n",
    "button=widgets.Button(description='Calculate')\n",
    "display(wT1)\n",
    "display(wt2) \n",
    "display(wt3) \n",
    "display(wt4)\n",
    "display(button)\n",
    "display(wTr)\n",
    "\n",
    "\n",
    "def on_button_clicked(c):\n",
    "    wTr.value=str(float(wT1.value) * mp * float(wt3.value)*1.e3 / ( float(wt4.value) * 1.0e-4 * float(wt2.value) * ec))\n",
    "\n",
    "    \n",
    "button.on_click(on_button_clicked)\n",
    "\n",
    "\n"
   ]
  },
  {
   "cell_type": "code",
   "execution_count": null,
   "metadata": {},
   "outputs": [],
   "source": []
  },
  {
   "cell_type": "code",
   "execution_count": null,
   "metadata": {},
   "outputs": [],
   "source": []
  },
  {
   "cell_type": "code",
   "execution_count": null,
   "metadata": {},
   "outputs": [],
   "source": []
  },
  {
   "cell_type": "code",
   "execution_count": null,
   "metadata": {},
   "outputs": [],
   "source": []
  },
  {
   "cell_type": "code",
   "execution_count": null,
   "metadata": {},
   "outputs": [],
   "source": []
  },
  {
   "cell_type": "code",
   "execution_count": null,
   "metadata": {},
   "outputs": [],
   "source": []
  }
 ],
 "metadata": {
  "celltoolbar": "Raw Cell Format",
  "kernelspec": {
   "display_name": "Python 3",
   "language": "python",
   "name": "python3"
  },
  "language_info": {
   "codemirror_mode": {
    "name": "ipython",
    "version": 3
   },
   "file_extension": ".py",
   "mimetype": "text/x-python",
   "name": "python",
   "nbconvert_exporter": "python",
   "pygments_lexer": "ipython3",
   "version": "3.6.4"
  },
  "widgets": {
   "application/vnd.jupyter.widget-state+json": {
    "state": {
     "00bb66cabe854837b826f4210bf0b557": {
      "model_module": "@jupyter-widgets/controls",
      "model_module_version": "1.1.0",
      "model_name": "DescriptionStyleModel",
      "state": {
       "description_width": ""
      }
     },
     "00fb1496e9474253a834951a0ed3bdc3": {
      "model_module": "@jupyter-widgets/controls",
      "model_module_version": "1.1.0",
      "model_name": "TextModel",
      "state": {
       "description": "Magnetic field [10-4 T]",
       "layout": "IPY_MODEL_562da85207d447dcbb7986f41efe974f",
       "style": "IPY_MODEL_9511d4ae02de44ab859a0d1f00ad61ed",
       "value": "1."
      }
     },
     "0106b9c1726f4be1916065aecd287579": {
      "model_module": "@jupyter-widgets/base",
      "model_module_version": "1.0.0",
      "model_name": "LayoutModel",
      "state": {}
     },
     "0fe8cf7d65bb4e6db8c6c916b621a48b": {
      "model_module": "@jupyter-widgets/controls",
      "model_module_version": "1.1.0",
      "model_name": "TextModel",
      "state": {
       "description": "Larmor radius [km]",
       "layout": "IPY_MODEL_45695f6f4e984370aac5ff18f159da7c",
       "style": "IPY_MODEL_397a4618303340218d8446d89c86b65c",
       "value": "0."
      }
     },
     "138feee9ee26448aa804776607916c79": {
      "model_module": "@jupyter-widgets/controls",
      "model_module_version": "1.1.0",
      "model_name": "DescriptionStyleModel",
      "state": {
       "description_width": ""
      }
     },
     "1802efa285ee47208cefb859f135bede": {
      "model_module": "@jupyter-widgets/controls",
      "model_module_version": "1.1.0",
      "model_name": "DescriptionStyleModel",
      "state": {
       "description_width": ""
      }
     },
     "190e6650310a496e8c3cfadbc52c44f3": {
      "model_module": "@jupyter-widgets/controls",
      "model_module_version": "1.1.0",
      "model_name": "ButtonModel",
      "state": {
       "description": "Calculate",
       "layout": "IPY_MODEL_c45e34d1d754478a97edb2831da3845d",
       "style": "IPY_MODEL_58fbed6ed3f44dce8c72f71c8d542d32"
      }
     },
     "1bda8d6ae8954ecd903f94b43f96ed02": {
      "model_module": "@jupyter-widgets/base",
      "model_module_version": "1.0.0",
      "model_name": "LayoutModel",
      "state": {}
     },
     "2246a10aa58f402aa2176a4c3bfdd00b": {
      "model_module": "@jupyter-widgets/base",
      "model_module_version": "1.0.0",
      "model_name": "LayoutModel",
      "state": {}
     },
     "351bcd1d2d5d4679b4a6aec17f652a4c": {
      "model_module": "@jupyter-widgets/base",
      "model_module_version": "1.0.0",
      "model_name": "LayoutModel",
      "state": {}
     },
     "397a4618303340218d8446d89c86b65c": {
      "model_module": "@jupyter-widgets/controls",
      "model_module_version": "1.1.0",
      "model_name": "DescriptionStyleModel",
      "state": {
       "description_width": ""
      }
     },
     "3c5ada27800a49a4b2103274454ad8ba": {
      "model_module": "@jupyter-widgets/controls",
      "model_module_version": "1.1.0",
      "model_name": "TextModel",
      "state": {
       "description": "Magnetic field [10-4 T]",
       "layout": "IPY_MODEL_4644620b21724696a14329e475546135",
       "style": "IPY_MODEL_138feee9ee26448aa804776607916c79",
       "value": "1."
      }
     },
     "45695f6f4e984370aac5ff18f159da7c": {
      "model_module": "@jupyter-widgets/base",
      "model_module_version": "1.0.0",
      "model_name": "LayoutModel",
      "state": {}
     },
     "4644620b21724696a14329e475546135": {
      "model_module": "@jupyter-widgets/base",
      "model_module_version": "1.0.0",
      "model_name": "LayoutModel",
      "state": {}
     },
     "486137e8e3544594beab275e584f43f9": {
      "model_module": "@jupyter-widgets/base",
      "model_module_version": "1.0.0",
      "model_name": "LayoutModel",
      "state": {}
     },
     "48fc1dd35dc4422d8f0ba6b23779722f": {
      "model_module": "@jupyter-widgets/controls",
      "model_module_version": "1.1.0",
      "model_name": "DescriptionStyleModel",
      "state": {
       "description_width": ""
      }
     },
     "4f17818d7bd34a17ba1a7c41367cc282": {
      "model_module": "@jupyter-widgets/controls",
      "model_module_version": "1.1.0",
      "model_name": "TextModel",
      "state": {
       "description": "Charge [e]",
       "layout": "IPY_MODEL_663ead4aa65d43d7a73556234793663b",
       "style": "IPY_MODEL_81a926e4ed1f4127a7aa219ae1672ce7",
       "value": "1."
      }
     },
     "562da85207d447dcbb7986f41efe974f": {
      "model_module": "@jupyter-widgets/base",
      "model_module_version": "1.0.0",
      "model_name": "LayoutModel",
      "state": {}
     },
     "58fbed6ed3f44dce8c72f71c8d542d32": {
      "model_module": "@jupyter-widgets/controls",
      "model_module_version": "1.1.0",
      "model_name": "ButtonStyleModel",
      "state": {}
     },
     "5c5e9d1dbe32454eb16817d4ef20f26d": {
      "model_module": "@jupyter-widgets/controls",
      "model_module_version": "1.1.0",
      "model_name": "TextModel",
      "state": {
       "description": "mass [mp]",
       "layout": "IPY_MODEL_7fe16d4017444cd68f079c6c4452cc5d",
       "style": "IPY_MODEL_1802efa285ee47208cefb859f135bede",
       "value": "1."
      }
     },
     "663ead4aa65d43d7a73556234793663b": {
      "model_module": "@jupyter-widgets/base",
      "model_module_version": "1.0.0",
      "model_name": "LayoutModel",
      "state": {}
     },
     "711d3f7ebbe3449ea7695478ffe3f0f4": {
      "model_module": "@jupyter-widgets/controls",
      "model_module_version": "1.1.0",
      "model_name": "DescriptionStyleModel",
      "state": {
       "description_width": ""
      }
     },
     "74ba51a73f254f4e88c8a634cf90e73a": {
      "model_module": "@jupyter-widgets/controls",
      "model_module_version": "1.1.0",
      "model_name": "DescriptionStyleModel",
      "state": {
       "description_width": ""
      }
     },
     "7fe16d4017444cd68f079c6c4452cc5d": {
      "model_module": "@jupyter-widgets/base",
      "model_module_version": "1.0.0",
      "model_name": "LayoutModel",
      "state": {}
     },
     "81a926e4ed1f4127a7aa219ae1672ce7": {
      "model_module": "@jupyter-widgets/controls",
      "model_module_version": "1.1.0",
      "model_name": "DescriptionStyleModel",
      "state": {
       "description_width": ""
      }
     },
     "8af777022f764d8faa5cf9582363ed59": {
      "model_module": "@jupyter-widgets/controls",
      "model_module_version": "1.1.0",
      "model_name": "TextModel",
      "state": {
       "description": "Larmor radius [km]",
       "layout": "IPY_MODEL_af00f24cc8bd4283acf8418586a7a03f",
       "style": "IPY_MODEL_00bb66cabe854837b826f4210bf0b557",
       "value": "0."
      }
     },
     "9511d4ae02de44ab859a0d1f00ad61ed": {
      "model_module": "@jupyter-widgets/controls",
      "model_module_version": "1.1.0",
      "model_name": "DescriptionStyleModel",
      "state": {
       "description_width": ""
      }
     },
     "af00f24cc8bd4283acf8418586a7a03f": {
      "model_module": "@jupyter-widgets/base",
      "model_module_version": "1.0.0",
      "model_name": "LayoutModel",
      "state": {}
     },
     "b8d6f290793b435a9c18623374101f38": {
      "model_module": "@jupyter-widgets/controls",
      "model_module_version": "1.1.0",
      "model_name": "TextModel",
      "state": {
       "description": "Velocity [km/s]",
       "layout": "IPY_MODEL_351bcd1d2d5d4679b4a6aec17f652a4c",
       "style": "IPY_MODEL_48fc1dd35dc4422d8f0ba6b23779722f",
       "value": "1."
      }
     },
     "c3d90ebbf9454d9ab901e597a89525ef": {
      "model_module": "@jupyter-widgets/controls",
      "model_module_version": "1.1.0",
      "model_name": "TextModel",
      "state": {
       "description": "Charge [e]",
       "layout": "IPY_MODEL_1bda8d6ae8954ecd903f94b43f96ed02",
       "style": "IPY_MODEL_d66a17be848b45f597b2c7859db0ef08",
       "value": "1."
      }
     },
     "c45e34d1d754478a97edb2831da3845d": {
      "model_module": "@jupyter-widgets/base",
      "model_module_version": "1.0.0",
      "model_name": "LayoutModel",
      "state": {}
     },
     "c4f1ff67a19445e384c2269fe840d0d8": {
      "model_module": "@jupyter-widgets/controls",
      "model_module_version": "1.1.0",
      "model_name": "TextModel",
      "state": {
       "description": "Velocity [km/s]",
       "layout": "IPY_MODEL_486137e8e3544594beab275e584f43f9",
       "style": "IPY_MODEL_711d3f7ebbe3449ea7695478ffe3f0f4",
       "value": "1."
      }
     },
     "cc0b45da58c94a0c8eba65bfaf6d6897": {
      "model_module": "@jupyter-widgets/controls",
      "model_module_version": "1.1.0",
      "model_name": "ButtonModel",
      "state": {
       "description": "Calculate",
       "layout": "IPY_MODEL_2246a10aa58f402aa2176a4c3bfdd00b",
       "style": "IPY_MODEL_f32c7cbb096e47a79699217588b1634a"
      }
     },
     "d66a17be848b45f597b2c7859db0ef08": {
      "model_module": "@jupyter-widgets/controls",
      "model_module_version": "1.1.0",
      "model_name": "DescriptionStyleModel",
      "state": {
       "description_width": ""
      }
     },
     "f26c0a3c4f2c41118897294bc9c1f0a2": {
      "model_module": "@jupyter-widgets/controls",
      "model_module_version": "1.1.0",
      "model_name": "TextModel",
      "state": {
       "description": "mass [mp]",
       "layout": "IPY_MODEL_0106b9c1726f4be1916065aecd287579",
       "style": "IPY_MODEL_74ba51a73f254f4e88c8a634cf90e73a",
       "value": "1."
      }
     },
     "f32c7cbb096e47a79699217588b1634a": {
      "model_module": "@jupyter-widgets/controls",
      "model_module_version": "1.1.0",
      "model_name": "ButtonStyleModel",
      "state": {}
     }
    },
    "version_major": 2,
    "version_minor": 0
   }
  }
 },
 "nbformat": 4,
 "nbformat_minor": 2
}
