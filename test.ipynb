{
 "cells": [
  {
   "cell_type": "code",
   "execution_count": 1,
   "metadata": {},
   "outputs": [],
   "source": [
    "import ipywidgets as widgets\n",
    "from sympy import *\n",
    "r, q, v, B, m, x = var('r q v B m x')"
   ]
  },
  {
   "cell_type": "code",
   "execution_count": 2,
   "metadata": {},
   "outputs": [],
   "source": [
    "from IPython.display import Markdown, display\n",
    "init_printing()\n",
    "def printmd(string):\n",
    "    display(Markdown(string))\n",
    "    \n"
   ]
  },
  {
   "cell_type": "code",
   "execution_count": 3,
   "metadata": {},
   "outputs": [
    {
     "data": {
      "text/markdown": [
       "PLASMA CALCULATOR"
      ],
      "text/plain": [
       "<IPython.core.display.Markdown object>"
      ]
     },
     "metadata": {},
     "output_type": "display_data"
    },
    {
     "name": "stdout",
     "output_type": "stream",
     "text": [
      "-- Larmor radius --\n"
     ]
    },
    {
     "data": {
      "image/png": "[encoded data removed]",
      "text/latex": [
       "$$r = \\frac{q v}{B m}$$"
      ],
      "text/plain": [
       "    q⋅v\n",
       "r = ───\n",
       "    B⋅m"
      ]
     },
     "metadata": {},
     "output_type": "display_data"
    },
    {
     "data": {
      "application/vnd.jupyter.widget-view+json": {
       "model_id": "a6eaa75623ab40089b1e6ecb769ea985",
       "version_major": 2,
       "version_minor": 0
      },
      "text/html": [
       "<p>Failed to display Jupyter Widget of type <code>Text</code>.</p>\n",
       "<p>\n",
       "  If you're reading this message in the Jupyter Notebook or JupyterLab Notebook, it may mean\n",
       "  that the widgets JavaScript is still loading. If this message persists, it\n",
       "  likely means that the widgets JavaScript library is either not installed or\n",
       "  not enabled. See the <a href=\"https://ipywidgets.readthedocs.io/en/stable/user_install.html\">Jupyter\n",
       "  Widgets Documentation</a> for setup instructions.\n",
       "</p>\n",
       "<p>\n",
       "  If you're reading this message in another frontend (for example, a static\n",
       "  rendering on GitHub or <a href=\"https://nbviewer.jupyter.org/\">NBViewer</a>),\n",
       "  it may mean that your frontend doesn't currently support widgets.\n",
       "</p>\n"
      ],
      "text/plain": [
       "Text(value='2.', description='Ion mass')"
      ]
     },
     "metadata": {},
     "output_type": "display_data"
    },
    {
     "data": {
      "application/vnd.jupyter.widget-view+json": {
       "model_id": "cf5c74b40bbc4964ba59eedbf0c8c0a4",
       "version_major": 2,
       "version_minor": 0
      },
      "text/html": [
       "<p>Failed to display Jupyter Widget of type <code>Button</code>.</p>\n",
       "<p>\n",
       "  If you're reading this message in the Jupyter Notebook or JupyterLab Notebook, it may mean\n",
       "  that the widgets JavaScript is still loading. If this message persists, it\n",
       "  likely means that the widgets JavaScript library is either not installed or\n",
       "  not enabled. See the <a href=\"https://ipywidgets.readthedocs.io/en/stable/user_install.html\">Jupyter\n",
       "  Widgets Documentation</a> for setup instructions.\n",
       "</p>\n",
       "<p>\n",
       "  If you're reading this message in another frontend (for example, a static\n",
       "  rendering on GitHub or <a href=\"https://nbviewer.jupyter.org/\">NBViewer</a>),\n",
       "  it may mean that your frontend doesn't currently support widgets.\n",
       "</p>\n"
      ],
      "text/plain": [
       "Button(description='Calculate', style=ButtonStyle())"
      ]
     },
     "metadata": {},
     "output_type": "display_data"
    },
    {
     "data": {
      "application/vnd.jupyter.widget-view+json": {
       "model_id": "082d7cd37d0c4244a80a2c9ac2732fad",
       "version_major": 2,
       "version_minor": 0
      },
      "text/html": [
       "<p>Failed to display Jupyter Widget of type <code>Text</code>.</p>\n",
       "<p>\n",
       "  If you're reading this message in the Jupyter Notebook or JupyterLab Notebook, it may mean\n",
       "  that the widgets JavaScript is still loading. If this message persists, it\n",
       "  likely means that the widgets JavaScript library is either not installed or\n",
       "  not enabled. See the <a href=\"https://ipywidgets.readthedocs.io/en/stable/user_install.html\">Jupyter\n",
       "  Widgets Documentation</a> for setup instructions.\n",
       "</p>\n",
       "<p>\n",
       "  If you're reading this message in another frontend (for example, a static\n",
       "  rendering on GitHub or <a href=\"https://nbviewer.jupyter.org/\">NBViewer</a>),\n",
       "  it may mean that your frontend doesn't currently support widgets.\n",
       "</p>\n"
      ],
      "text/plain": [
       "Text(value='0.', description='Result')"
      ]
     },
     "metadata": {},
     "output_type": "display_data"
    }
   ],
   "source": [
    "printmd('PLASMA CALCULATOR')\n",
    "print('-- Larmor radius --')\n",
    "\n",
    "eq=Eq(r,q*v/(m*B))\n",
    "display(eq)\n",
    "\n",
    "wT=widgets.Text(value='2.', description='Ion mass' ,disabled=False)\n",
    "wTr=widgets.Text(value='0.', description='Result' ,disabled=False)\n",
    "\n",
    "\n",
    "button=widgets.Button(description='Calculate')\n",
    "display(wT)\n",
    "display(button)\n",
    "display(wTr)\n",
    "\n",
    "\n",
    "def on_button_clicked(c):\n",
    "    wTr.value=str(float(wT.value)*2.)\n",
    "\n",
    "    \n",
    "button.on_click(on_button_clicked)\n",
    "\n",
    "\n"
   ]
  },
  {
   "cell_type": "markdown",
   "metadata": {},
   "source": [
    "# prova"
   ]
  },
  {
   "cell_type": "code",
   "execution_count": null,
   "metadata": {},
   "outputs": [],
   "source": []
  }
 ],
 "metadata": {
  "celltoolbar": "Raw Cell Format",
  "kernelspec": {
   "display_name": "Python 3",
   "language": "python",
   "name": "python3"
  },
  "language_info": {
   "codemirror_mode": {
    "name": "ipython",
    "version": 3
   },
   "file_extension": ".py",
   "mimetype": "text/x-python",
   "name": "python",
   "nbconvert_exporter": "python",
   "pygments_lexer": "ipython3",
   "version": "3.6.4"
  },
  "widgets": {
   "application/vnd.jupyter.widget-state+json": {
    "state": {
     "004e9424296c4d9ca426cfb84607cf79": {
      "model_module": "@jupyter-widgets/controls",
      "model_module_version": "1.1.0",
      "model_name": "DescriptionStyleModel",
      "state": {
       "description_width": ""
      }
     },
     "0067aae166974d0c998ce897ad92fd9c": {
      "model_module": "@jupyter-widgets/controls",
      "model_module_version": "1.1.0",
      "model_name": "ButtonStyleModel",
      "state": {}
     },
     "01360e190636431493818424e75a42c3": {
      "model_module": "@jupyter-widgets/controls",
      "model_module_version": "1.1.0",
      "model_name": "ButtonStyleModel",
      "state": {}
     },
     "01dc715c938c445085c05aa08cc02e2b": {
      "model_module": "@jupyter-widgets/controls",
      "model_module_version": "1.1.0",
      "model_name": "TextModel",
      "state": {
       "description": "Ion mass",
       "layout": "IPY_MODEL_c4e7f3595c7040f9bc1751841d03b6f9",
       "style": "IPY_MODEL_9e80244ec1294f589314ac447f7743d0",
       "value": "Ion mass"
      }
     },
     "01f6b7c1ce1540fd9f668bc110c022c4": {
      "model_module": "@jupyter-widgets/controls",
      "model_module_version": "1.1.0",
      "model_name": "DescriptionStyleModel",
      "state": {
       "description_width": ""
      }
     },
     "024843ea50b0429baa73a37463a94811": {
      "model_module": "@jupyter-widgets/controls",
      "model_module_version": "1.1.0",
      "model_name": "DescriptionStyleModel",
      "state": {
       "description_width": ""
      }
     },
     "0350e541b3f64bb6bce5b53e40685723": {
      "model_module": "@jupyter-widgets/controls",
      "model_module_version": "1.1.0",
      "model_name": "TextModel",
      "state": {
       "description": "Ion mass",
       "layout": "IPY_MODEL_e173dfa0d13543a2bd453f02bcba16f1",
       "style": "IPY_MODEL_a6399abf66c346d6bf2e0605ab74ce0f",
       "value": "Ion mass"
      }
     },
     "03c7130feac04f7a83fb04b1237376aa": {
      "model_module": "@jupyter-widgets/controls",
      "model_module_version": "1.1.0",
      "model_name": "DescriptionStyleModel",
      "state": {
       "description_width": ""
      }
     },
     "04407607f94341f09ce7fedc811f73eb": {
      "model_module": "@jupyter-widgets/base",
      "model_module_version": "1.0.0",
      "model_name": "LayoutModel",
      "state": {}
     },
     "045fd03df8234d6ebfbcb6a81031ece9": {
      "model_module": "@jupyter-widgets/controls",
      "model_module_version": "1.1.0",
      "model_name": "TextModel",
      "state": {
       "description": "Ion mass",
       "layout": "IPY_MODEL_ae3793080f414247be064ad018e3b7ad",
       "style": "IPY_MODEL_004e9424296c4d9ca426cfb84607cf79",
       "value": "9"
      }
     },
     "04ae07e49c7c480f9c0004900affadc0": {
      "model_module": "@jupyter-widgets/controls",
      "model_module_version": "1.1.0",
      "model_name": "TextModel",
      "state": {
       "description": "Ion mass",
       "layout": "IPY_MODEL_a7bd98d9a8aa4dcba91b65194ba4f04b",
       "style": "IPY_MODEL_481eeff99c6349068df1366827bccb2c",
       "value": "0."
      }
     },
     "04c15c6cf93f4363a2a49cb45cc042fc": {
      "model_module": "@jupyter-widgets/controls",
      "model_module_version": "1.1.0",
      "model_name": "DescriptionStyleModel",
      "state": {
       "description_width": ""
      }
     },
     "04d4178eef804c439ee06b8a3c46111a": {
      "model_module": "@jupyter-widgets/controls",
      "model_module_version": "1.1.0",
      "model_name": "ButtonStyleModel",
      "state": {}
     },
     "056e36b994e74d19839cb1505526645c": {
      "model_module": "@jupyter-widgets/base",
      "model_module_version": "1.0.0",
      "model_name": "LayoutModel",
      "state": {}
     },
     "057f801e07994ce5b6bd4422a3402c20": {
      "model_module": "@jupyter-widgets/controls",
      "model_module_version": "1.1.0",
      "model_name": "ButtonStyleModel",
      "state": {}
     },
     "05e1731bf59d46dbbeb17647119371bb": {
      "model_module": "@jupyter-widgets/controls",
      "model_module_version": "1.1.0",
      "model_name": "ButtonStyleModel",
      "state": {}
     },
     "06968b000e0c4ada8fd3be8350a91a82": {
      "model_module": "@jupyter-widgets/controls",
      "model_module_version": "1.1.0",
      "model_name": "TextModel",
      "state": {
       "description": "Result",
       "layout": "IPY_MODEL_ad20f16f1f554a2989b77ddaf64b1c19",
       "style": "IPY_MODEL_6455a46359f84eff807ded50323601dc"
      }
     },
     "06b9c7ae498d44cdb13879ca60bda2ea": {
      "model_module": "@jupyter-widgets/base",
      "model_module_version": "1.0.0",
      "model_name": "LayoutModel",
      "state": {}
     },
     "0738f1ae4ec843cf82b837eb6be0ca71": {
      "model_module": "@jupyter-widgets/base",
      "model_module_version": "1.0.0",
      "model_name": "LayoutModel",
      "state": {}
     },
     "078a30d27e5345f9b4b392805b5f668a": {
      "model_module": "@jupyter-widgets/base",
      "model_module_version": "1.0.0",
      "model_name": "LayoutModel",
      "state": {}
     },
     "08178e79c8584b0d89e1932ec7817cb8": {
      "model_module": "@jupyter-widgets/controls",
      "model_module_version": "1.1.0",
      "model_name": "ButtonModel",
      "state": {
       "description": "Calculate",
       "layout": "IPY_MODEL_e279ecbb308148bdb5d2e8ead0102f77",
       "style": "IPY_MODEL_04d4178eef804c439ee06b8a3c46111a"
      }
     },
     "082d7cd37d0c4244a80a2c9ac2732fad": {
      "model_module": "@jupyter-widgets/controls",
      "model_module_version": "1.1.0",
      "model_name": "TextModel",
      "state": {
       "description": "Result",
       "layout": "IPY_MODEL_b687c1f66c7a40959cb12216e2014850",
       "style": "IPY_MODEL_4ca052270dca4de9babcedbe542dff9c",
       "value": "4.0"
      }
     },
     "08611993af794cbd9fa25cec6bf810d2": {
      "model_module": "@jupyter-widgets/controls",
      "model_module_version": "1.1.0",
      "model_name": "TextModel",
      "state": {
       "description": "Ion mass",
       "layout": "IPY_MODEL_95b688c99502470abbc4081c7de07956",
       "style": "IPY_MODEL_04c15c6cf93f4363a2a49cb45cc042fc",
       "value": "2."
      }
     },
     "08c24cd442664fa8985a5a02409b3e50": {
      "model_module": "@jupyter-widgets/base",
      "model_module_version": "1.0.0",
      "model_name": "LayoutModel",
      "state": {}
     },
     "0aae83fb3cbc41848a5b4e9b1aa67500": {
      "model_module": "@jupyter-widgets/controls",
      "model_module_version": "1.1.0",
      "model_name": "ButtonModel",
      "state": {
       "description": "Calculate",
       "layout": "IPY_MODEL_fb5f13a7dfba49619020282d58b4ab52",
       "style": "IPY_MODEL_963b16345cbd430dbdfd22508593bcbe"
      }
     },
     "0b4e31dc4f66408596a9dae8a79fb531": {
      "model_module": "@jupyter-widgets/controls",
      "model_module_version": "1.1.0",
      "model_name": "ButtonStyleModel",
      "state": {}
     },
     "0b4f24bb58b6469fa70acad2bb215f7a": {
      "model_module": "@jupyter-widgets/controls",
      "model_module_version": "1.1.0",
      "model_name": "ButtonStyleModel",
      "state": {}
     },
     "0ba67ae958ed49cfa75a8d6061bccb22": {
      "model_module": "@jupyter-widgets/controls",
      "model_module_version": "1.1.0",
      "model_name": "ButtonStyleModel",
      "state": {}
     },
     "0bd2830ed01840b78a5f0c5cc2be0a4f": {
      "model_module": "@jupyter-widgets/base",
      "model_module_version": "1.0.0",
      "model_name": "LayoutModel",
      "state": {}
     },
     "0c16a9d421bd40dbb4ef16b1a5a8f30c": {
      "model_module": "@jupyter-widgets/controls",
      "model_module_version": "1.1.0",
      "model_name": "DescriptionStyleModel",
      "state": {
       "description_width": ""
      }
     },
     "0c7183afb90a46ad89ac067cc6872260": {
      "model_module": "@jupyter-widgets/controls",
      "model_module_version": "1.1.0",
      "model_name": "ButtonStyleModel",
      "state": {}
     },
     "0c813f6590964af2a9ff925e10e06d15": {
      "model_module": "@jupyter-widgets/base",
      "model_module_version": "1.0.0",
      "model_name": "LayoutModel",
      "state": {}
     },
     "0cbca6a1db09494d915e5b95f9479602": {
      "model_module": "@jupyter-widgets/controls",
      "model_module_version": "1.1.0",
      "model_name": "TextModel",
      "state": {
       "description": "Ion mass",
       "layout": "IPY_MODEL_f286c7a4a4ff4080a53b37833aeca8c5",
       "style": "IPY_MODEL_2300d294faba4a92b25e316b261a88bc",
       "value": "2"
      }
     },
     "0cf5f24ac4c24c53b8754da442ccc44c": {
      "model_module": "@jupyter-widgets/controls",
      "model_module_version": "1.1.0",
      "model_name": "ButtonStyleModel",
      "state": {}
     },
     "0d451f27fa2f4415a86dbeb11e23d4b0": {
      "model_module": "@jupyter-widgets/controls",
      "model_module_version": "1.1.0",
      "model_name": "TextModel",
      "state": {
       "description": "Ion mass",
       "layout": "IPY_MODEL_88feca00bd4141d98910cd48d0672189",
       "style": "IPY_MODEL_8fbf6f54e9c5471d97e8209f037530c1",
       "value": "2"
      }
     },
     "0e000723654f445b875d9aae11980c26": {
      "model_module": "@jupyter-widgets/controls",
      "model_module_version": "1.1.0",
      "model_name": "DescriptionStyleModel",
      "state": {
       "description_width": ""
      }
     },
     "1045c1be864e4ed6bdc7e485d50fed59": {
      "model_module": "@jupyter-widgets/controls",
      "model_module_version": "1.1.0",
      "model_name": "DescriptionStyleModel",
      "state": {
       "description_width": ""
      }
     },
     "10bcd3504747475383bfd15c8074d28b": {
      "model_module": "@jupyter-widgets/controls",
      "model_module_version": "1.1.0",
      "model_name": "DescriptionStyleModel",
      "state": {
       "description_width": ""
      }
     },
     "113cb7229a834445a353b537b3d1f74b": {
      "model_module": "@jupyter-widgets/controls",
      "model_module_version": "1.1.0",
      "model_name": "DescriptionStyleModel",
      "state": {
       "description_width": ""
      }
     },
     "115e40d9f7614940affec0e35f9d395b": {
      "model_module": "@jupyter-widgets/controls",
      "model_module_version": "1.1.0",
      "model_name": "ButtonModel",
      "state": {
       "description": "Click Me!",
       "layout": "IPY_MODEL_f580d3fbe0b043bfa06ca79cf3e255f1",
       "style": "IPY_MODEL_c576ad166a9a4e4590d70a1c48f3ab41"
      }
     },
     "1161a79170134873a05c797091a7d446": {
      "model_module": "@jupyter-widgets/controls",
      "model_module_version": "1.1.0",
      "model_name": "ButtonModel",
      "state": {
       "description": "Calculate",
       "icon": "check",
       "layout": "IPY_MODEL_702922b35d564f7893cbbf867dbff4f2",
       "style": "IPY_MODEL_0b4f24bb58b6469fa70acad2bb215f7a",
       "tooltip": "Calculate"
      }
     },
     "122b525a97234be49570c5e0a06beafa": {
      "model_module": "@jupyter-widgets/base",
      "model_module_version": "1.0.0",
      "model_name": "LayoutModel",
      "state": {}
     },
     "124cd8bfca0443898e99b5c9ee0b250d": {
      "model_module": "@jupyter-widgets/base",
      "model_module_version": "1.0.0",
      "model_name": "LayoutModel",
      "state": {}
     },
     "125229cb3dd649349438f7231f6da9dc": {
      "model_module": "@jupyter-widgets/controls",
      "model_module_version": "1.1.0",
      "model_name": "ButtonStyleModel",
      "state": {}
     },
     "1291afc4c6f0463da0fbb85f389777a8": {
      "model_module": "@jupyter-widgets/controls",
      "model_module_version": "1.1.0",
      "model_name": "ButtonStyleModel",
      "state": {}
     },
     "13139c59915948cea2fc6acc4ae509ec": {
      "model_module": "@jupyter-widgets/controls",
      "model_module_version": "1.1.0",
      "model_name": "ButtonStyleModel",
      "state": {}
     },
     "133059bc96784bf399491e51de592278": {
      "model_module": "@jupyter-widgets/base",
      "model_module_version": "1.0.0",
      "model_name": "LayoutModel",
      "state": {}
     },
     "1375355ee117427e8996abb1ee2ee7ad": {
      "model_module": "@jupyter-widgets/base",
      "model_module_version": "1.0.0",
      "model_name": "LayoutModel",
      "state": {}
     },
     "13dfb4d24139497a927e2a811e3af1e9": {
      "model_module": "@jupyter-widgets/controls",
      "model_module_version": "1.1.0",
      "model_name": "DescriptionStyleModel",
      "state": {
       "description_width": ""
      }
     },
     "144b4c00dfd34a3bb7cdeb5e4eff006c": {
      "model_module": "@jupyter-widgets/controls",
      "model_module_version": "1.1.0",
      "model_name": "DescriptionStyleModel",
      "state": {
       "description_width": ""
      }
     },
     "158360cca4af473ebf262dd5eb28ed78": {
      "model_module": "@jupyter-widgets/controls",
      "model_module_version": "1.1.0",
      "model_name": "TextModel",
      "state": {
       "description": "Ion mass",
       "layout": "IPY_MODEL_e535f22c97b7481c8507cff6fde860ee",
       "style": "IPY_MODEL_10bcd3504747475383bfd15c8074d28b",
       "value": "Ion mass"
      }
     },
     "15db39833b484d33b09451c912dad8bb": {
      "model_module": "@jupyter-widgets/base",
      "model_module_version": "1.0.0",
      "model_name": "LayoutModel",
      "state": {}
     },
     "15f4764cfcb74e73981e1285c8038756": {
      "model_module": "@jupyter-widgets/base",
      "model_module_version": "1.0.0",
      "model_name": "LayoutModel",
      "state": {}
     },
     "16576db3b0c3476ea65d783e7ffccb1f": {
      "model_module": "@jupyter-widgets/controls",
      "model_module_version": "1.1.0",
      "model_name": "DescriptionStyleModel",
      "state": {
       "description_width": ""
      }
     },
     "167761c46f0a4651a07abe2f3d9d4043": {
      "model_module": "@jupyter-widgets/controls",
      "model_module_version": "1.1.0",
      "model_name": "ButtonStyleModel",
      "state": {}
     },
     "175e5110228d43dba8a0b7c3f274645a": {
      "model_module": "@jupyter-widgets/controls",
      "model_module_version": "1.1.0",
      "model_name": "ButtonModel",
      "state": {
       "description": "Calculate",
       "layout": "IPY_MODEL_ded9f6023e1642c886316b8f539440d2",
       "style": "IPY_MODEL_01360e190636431493818424e75a42c3"
      }
     },
     "17704a65c5ec4eb4aff04b822b6673cc": {
      "model_module": "@jupyter-widgets/controls",
      "model_module_version": "1.1.0",
      "model_name": "ButtonStyleModel",
      "state": {}
     },
     "188a6d65fa9a4afeaa0e351ec60d17c1": {
      "model_module": "@jupyter-widgets/base",
      "model_module_version": "1.0.0",
      "model_name": "LayoutModel",
      "state": {}
     },
     "18ba06ee7aa44d35af03cfbf853a5148": {
      "model_module": "@jupyter-widgets/base",
      "model_module_version": "1.0.0",
      "model_name": "LayoutModel",
      "state": {}
     },
     "18f73fdaffc04537b401bd504773fe98": {
      "model_module": "@jupyter-widgets/base",
      "model_module_version": "1.0.0",
      "model_name": "LayoutModel",
      "state": {}
     },
     "190baf34cb7947ba95b517371bca704a": {
      "model_module": "@jupyter-widgets/base",
      "model_module_version": "1.0.0",
      "model_name": "LayoutModel",
      "state": {}
     },
     "1aa5115bab3c48d3b20acb4558a3d21e": {
      "model_module": "@jupyter-widgets/base",
      "model_module_version": "1.0.0",
      "model_name": "LayoutModel",
      "state": {}
     },
     "1ab120014f7b472c8e07f3cfb0df1c7c": {
      "model_module": "@jupyter-widgets/base",
      "model_module_version": "1.0.0",
      "model_name": "LayoutModel",
      "state": {}
     },
     "1b3cba7afb354936be78e817b1450934": {
      "model_module": "@jupyter-widgets/base",
      "model_module_version": "1.0.0",
      "model_name": "LayoutModel",
      "state": {}
     },
     "1b6fe328d1eb4fc5b668f765eaf7af67": {
      "model_module": "@jupyter-widgets/controls",
      "model_module_version": "1.1.0",
      "model_name": "ButtonModel",
      "state": {
       "description": "Calculate",
       "layout": "IPY_MODEL_31df6d4561744528a130479a210db7e4",
       "style": "IPY_MODEL_73b6f33db4b845c193056cffeaec1b97"
      }
     },
     "1b7443f1990a46d1b213b551ff9ed958": {
      "model_module": "@jupyter-widgets/base",
      "model_module_version": "1.0.0",
      "model_name": "LayoutModel",
      "state": {}
     },
     "1c7b2767cf934cf1883ae35addabf2b6": {
      "model_module": "@jupyter-widgets/controls",
      "model_module_version": "1.1.0",
      "model_name": "DescriptionStyleModel",
      "state": {
       "description_width": ""
      }
     },
     "1cac3c298c1045dd98c3356f45e6133d": {
      "model_module": "@jupyter-widgets/controls",
      "model_module_version": "1.1.0",
      "model_name": "TextModel",
      "state": {
       "description": "Ion mass",
       "layout": "IPY_MODEL_28811987af39409f8a4cb4016a83f472",
       "style": "IPY_MODEL_01f6b7c1ce1540fd9f668bc110c022c4",
       "value": "Ion mass"
      }
     },
     "1cf904b571b34144b1aa5392140ce68a": {
      "model_module": "@jupyter-widgets/base",
      "model_module_version": "1.0.0",
      "model_name": "LayoutModel",
      "state": {}
     },
     "1e7b9f8fd9a64877b159ee63c25831cf": {
      "model_module": "@jupyter-widgets/base",
      "model_module_version": "1.0.0",
      "model_name": "LayoutModel",
      "state": {}
     },
     "1eb7d0b4716d4e248b4be2ab319314c7": {
      "model_module": "@jupyter-widgets/base",
      "model_module_version": "1.0.0",
      "model_name": "LayoutModel",
      "state": {}
     },
     "1f531e4cec124dd685ccdcd1ec4e0b14": {
      "model_module": "@jupyter-widgets/controls",
      "model_module_version": "1.1.0",
      "model_name": "ButtonStyleModel",
      "state": {}
     },
     "1f995c51aab949f29698eef0030c6d56": {
      "model_module": "@jupyter-widgets/controls",
      "model_module_version": "1.1.0",
      "model_name": "ButtonStyleModel",
      "state": {}
     },
     "2159e5059fae46c29c0bf9cc93026727": {
      "model_module": "@jupyter-widgets/controls",
      "model_module_version": "1.1.0",
      "model_name": "ButtonModel",
      "state": {
       "description": "Calculate",
       "layout": "IPY_MODEL_08c24cd442664fa8985a5a02409b3e50",
       "style": "IPY_MODEL_add03718fa6f4609a9002a1c41110225"
      }
     },
     "22676f6d9cf94247948949df8ed30f7d": {
      "model_module": "@jupyter-widgets/base",
      "model_module_version": "1.0.0",
      "model_name": "LayoutModel",
      "state": {}
     },
     "2300d294faba4a92b25e316b261a88bc": {
      "model_module": "@jupyter-widgets/controls",
      "model_module_version": "1.1.0",
      "model_name": "DescriptionStyleModel",
      "state": {
       "description_width": ""
      }
     },
     "242e02ac6416415c9332906bb0485e84": {
      "model_module": "@jupyter-widgets/base",
      "model_module_version": "1.0.0",
      "model_name": "LayoutModel",
      "state": {}
     },
     "2436b7b11de54c49abb0803ff910e692": {
      "model_module": "@jupyter-widgets/controls",
      "model_module_version": "1.1.0",
      "model_name": "ButtonModel",
      "state": {
       "description": "Calculate",
       "layout": "IPY_MODEL_8965c98b385f4acaa9a6958b8657a64b",
       "style": "IPY_MODEL_497c311fa92e41299a8e47891e0fc424"
      }
     },
     "246dba4c9b5b4be583f567a04f08c30c": {
      "model_module": "@jupyter-widgets/controls",
      "model_module_version": "1.1.0",
      "model_name": "TextModel",
      "state": {
       "description": "Ion mass",
       "layout": "IPY_MODEL_451ac2e4aa0d48e3988a0a637e5be4c6",
       "style": "IPY_MODEL_03c7130feac04f7a83fb04b1237376aa",
       "value": "1"
      }
     },
     "24a057dc00a045099390b1b03bd67a3f": {
      "model_module": "@jupyter-widgets/base",
      "model_module_version": "1.0.0",
      "model_name": "LayoutModel",
      "state": {}
     },
     "24a2a8f88edc426bbe1c9d381d082a2e": {
      "model_module": "@jupyter-widgets/controls",
      "model_module_version": "1.1.0",
      "model_name": "ButtonStyleModel",
      "state": {}
     },
     "258bd62fbf10458da510f323e0159754": {
      "model_module": "@jupyter-widgets/base",
      "model_module_version": "1.0.0",
      "model_name": "LayoutModel",
      "state": {}
     },
     "2680d063e9bf49f5a4268cf8a615ca08": {
      "model_module": "@jupyter-widgets/base",
      "model_module_version": "1.0.0",
      "model_name": "LayoutModel",
      "state": {}
     },
     "27b44a3847424be3bfb7ad89dd23f20e": {
      "model_module": "@jupyter-widgets/controls",
      "model_module_version": "1.1.0",
      "model_name": "ButtonModel",
      "state": {
       "button_style": "danger",
       "description": "weight=3; auto",
       "layout": "IPY_MODEL_e631daa8bbfe4d159b0031bee9a5568e",
       "style": "IPY_MODEL_dcff62c587c6400491ff363a1be49d7d"
      }
     },
     "28218c90cdfe462c98efbee80cd80a98": {
      "model_module": "@jupyter-widgets/base",
      "model_module_version": "1.0.0",
      "model_name": "LayoutModel",
      "state": {}
     },
     "28811987af39409f8a4cb4016a83f472": {
      "model_module": "@jupyter-widgets/base",
      "model_module_version": "1.0.0",
      "model_name": "LayoutModel",
      "state": {}
     },
     "28e75b651c94459289d4925ab8d76a81": {
      "model_module": "@jupyter-widgets/controls",
      "model_module_version": "1.1.0",
      "model_name": "VBoxModel",
      "state": {
       "children": [
        "IPY_MODEL_4d2338daf1ea424d87121e6b10b2c62a",
        "IPY_MODEL_3d25292b47824749a85fae4aca2b95fc"
       ],
       "layout": "IPY_MODEL_a08a62a6778a4f618cb32f11467e5d31"
      }
     },
     "2a8ade7f43d24906a324456d88a17182": {
      "model_module": "@jupyter-widgets/controls",
      "model_module_version": "1.1.0",
      "model_name": "TextModel",
      "state": {
       "description": "Ion mass",
       "layout": "IPY_MODEL_b7d0e11f3c4648b28d67f7dd65427804",
       "style": "IPY_MODEL_4d7bd91cf2544c8a8e81b22263c9bdb5",
       "value": "5"
      }
     },
     "2b0964ff4c0f47f29f8f4b1e862c709b": {
      "model_module": "@jupyter-widgets/controls",
      "model_module_version": "1.1.0",
      "model_name": "ButtonModel",
      "state": {
       "description": "Calculate",
       "layout": "IPY_MODEL_854dade3ecc945c5b861657709ec0b3d",
       "style": "IPY_MODEL_344c3801b22843a1861eb45522173fa3"
      }
     },
     "2bc829f6695d4dd9a799feb78a7b0fce": {
      "model_module": "@jupyter-widgets/base",
      "model_module_version": "1.0.0",
      "model_name": "LayoutModel",
      "state": {}
     },
     "2c05d58d449f4a3a82562846e5457810": {
      "model_module": "@jupyter-widgets/controls",
      "model_module_version": "1.1.0",
      "model_name": "ButtonModel",
      "state": {
       "description": "Calculate",
       "layout": "IPY_MODEL_c8b574a49862462cb27fa85e75c80d2b",
       "style": "IPY_MODEL_6409d903d3a34f28b64a3221dc1832aa"
      }
     },
     "2c10de3744e74278966e2cde0b6df654": {
      "model_module": "@jupyter-widgets/controls",
      "model_module_version": "1.1.0",
      "model_name": "TextModel",
      "state": {
       "description": "Ion mass",
       "layout": "IPY_MODEL_6114159bd68849e6ae9b4d6861644e9d",
       "style": "IPY_MODEL_fa8b0ea6f50d4318be02396906d2deb1",
       "value": "2."
      }
     },
     "2c284843691e4fc18de4342af219e3ec": {
      "model_module": "@jupyter-widgets/controls",
      "model_module_version": "1.1.0",
      "model_name": "ButtonStyleModel",
      "state": {}
     },
     "2c76bbea245c4835a75b3e8de886a545": {
      "model_module": "@jupyter-widgets/base",
      "model_module_version": "1.0.0",
      "model_name": "LayoutModel",
      "state": {}
     },
     "2e5c85b5fecc4451bef276737e9f8ab5": {
      "model_module": "@jupyter-widgets/controls",
      "model_module_version": "1.1.0",
      "model_name": "ButtonModel",
      "state": {
       "button_style": "danger",
       "description": "weight=1; 0%",
       "layout": "IPY_MODEL_fb974c86d7bd4051960da26ad3503506",
       "style": "IPY_MODEL_b72cba0f32144d5d891cd2d69a90ad8b"
      }
     },
     "2ff650227a524f58971bde84e8229cad": {
      "model_module": "@jupyter-widgets/controls",
      "model_module_version": "1.1.0",
      "model_name": "ButtonModel",
      "state": {
       "description": "Calculate",
       "layout": "IPY_MODEL_3410cd660fb74385aa56c6810eede6c1",
       "style": "IPY_MODEL_747b6a8316104ac58a4ca1140981c947"
      }
     },
     "302873bbdb7947d98feaadea70c7d772": {
      "model_module": "@jupyter-widgets/controls",
      "model_module_version": "1.1.0",
      "model_name": "DescriptionStyleModel",
      "state": {
       "description_width": ""
      }
     },
     "308611fa24874314baf0655871717c4b": {
      "model_module": "@jupyter-widgets/base",
      "model_module_version": "1.0.0",
      "model_name": "LayoutModel",
      "state": {}
     },
     "309a164a2e12482f80bd2d0f58ae77cf": {
      "model_module": "@jupyter-widgets/controls",
      "model_module_version": "1.1.0",
      "model_name": "TextModel",
      "state": {
       "description": "Ion mass",
       "layout": "IPY_MODEL_db89d362e45c40258d69c61be09d17ea",
       "style": "IPY_MODEL_69355e76fe7b4ffda8c7fbb18a1afa8d",
       "value": "Ion mass"
      }
     },
     "31690251859e407b991a4ea101df9ee8": {
      "model_module": "@jupyter-widgets/controls",
      "model_module_version": "1.1.0",
      "model_name": "TextModel",
      "state": {
       "description": "Ion mass",
       "layout": "IPY_MODEL_971e1436b6084603acb10757dc5ebbf4",
       "style": "IPY_MODEL_9827c228068645628372948fb24ce1c4",
       "value": "2."
      }
     },
     "318e91d629d4453389d6f6f1b7c25eab": {
      "model_module": "@jupyter-widgets/base",
      "model_module_version": "1.0.0",
      "model_name": "LayoutModel",
      "state": {}
     },
     "31df6d4561744528a130479a210db7e4": {
      "model_module": "@jupyter-widgets/base",
      "model_module_version": "1.0.0",
      "model_name": "LayoutModel",
      "state": {}
     },
     "32616043c137473b8bd4442d393dbbf4": {
      "model_module": "@jupyter-widgets/controls",
      "model_module_version": "1.1.0",
      "model_name": "ButtonModel",
      "state": {
       "description": "Calculate",
       "layout": "IPY_MODEL_fc4d21a6a212402da344d94d3703686d",
       "style": "IPY_MODEL_057f801e07994ce5b6bd4422a3402c20"
      }
     },
     "32bd65f6443d4bd083ab8fe7a56f75fd": {
      "model_module": "@jupyter-widgets/base",
      "model_module_version": "1.0.0",
      "model_name": "LayoutModel",
      "state": {}
     },
     "32bfc1473c274b7cb777a552f2583826": {
      "model_module": "@jupyter-widgets/controls",
      "model_module_version": "1.1.0",
      "model_name": "ButtonStyleModel",
      "state": {}
     },
     "340add61a73d4a7a82651b7d2d7fb832": {
      "model_module": "@jupyter-widgets/controls",
      "model_module_version": "1.1.0",
      "model_name": "ButtonStyleModel",
      "state": {}
     },
     "3410cd660fb74385aa56c6810eede6c1": {
      "model_module": "@jupyter-widgets/base",
      "model_module_version": "1.0.0",
      "model_name": "LayoutModel",
      "state": {}
     },
     "344c3801b22843a1861eb45522173fa3": {
      "model_module": "@jupyter-widgets/controls",
      "model_module_version": "1.1.0",
      "model_name": "ButtonStyleModel",
      "state": {}
     },
     "34cb5a7829ea4062925dde5d9722f466": {
      "model_module": "@jupyter-widgets/controls",
      "model_module_version": "1.1.0",
      "model_name": "DescriptionStyleModel",
      "state": {
       "description_width": ""
      }
     },
     "3502901a016a4a319400df97fdae1424": {
      "model_module": "@jupyter-widgets/controls",
      "model_module_version": "1.1.0",
      "model_name": "DescriptionStyleModel",
      "state": {
       "description_width": ""
      }
     },
     "352ee438888d4e2ab8c605d2888d924c": {
      "model_module": "@jupyter-widgets/controls",
      "model_module_version": "1.1.0",
      "model_name": "ButtonModel",
      "state": {
       "description": "Calculate",
       "icon": "check",
       "layout": "IPY_MODEL_69bc3a13822545e192f249489116bb04",
       "style": "IPY_MODEL_167761c46f0a4651a07abe2f3d9d4043",
       "tooltip": "Calculate"
      }
     },
     "3580f2b0af9140af94dc478d97e94420": {
      "model_module": "@jupyter-widgets/controls",
      "model_module_version": "1.1.0",
      "model_name": "ButtonStyleModel",
      "state": {}
     },
     "3601061cad7040d4ad5dc5982cdbd946": {
      "model_module": "@jupyter-widgets/base",
      "model_module_version": "1.0.0",
      "model_name": "LayoutModel",
      "state": {}
     },
     "36a44c0f76f54b7ea75bcc376bc1195a": {
      "model_module": "@jupyter-widgets/base",
      "model_module_version": "1.0.0",
      "model_name": "LayoutModel",
      "state": {}
     },
     "3760a82a1c7a43b2a6d7eb92e6f9a697": {
      "model_module": "@jupyter-widgets/controls",
      "model_module_version": "1.1.0",
      "model_name": "IntSliderModel",
      "state": {
       "layout": "IPY_MODEL_2c76bbea245c4835a75b3e8de886a545",
       "style": "IPY_MODEL_98adf9ca732942f39464ce58e8c2c37d"
      }
     },
     "37761f1ea09e46138ed4fe83a13d7274": {
      "model_module": "@jupyter-widgets/base",
      "model_module_version": "1.0.0",
      "model_name": "LayoutModel",
      "state": {}
     },
     "38446c8f15be47e38c193d84f15129b3": {
      "model_module": "@jupyter-widgets/controls",
      "model_module_version": "1.1.0",
      "model_name": "ButtonModel",
      "state": {
       "button_style": "danger",
       "description": "weight=3; 0%",
       "layout": "IPY_MODEL_40113e79ea30485886074c0db0b3710d",
       "style": "IPY_MODEL_cf9a672fc41c4161ae5aa015dc81d346"
      }
     },
     "38d735443ddd4e8fb678d8afb5276828": {
      "model_module": "@jupyter-widgets/controls",
      "model_module_version": "1.1.0",
      "model_name": "TextModel",
      "state": {
       "description": "Ion mass",
       "layout": "IPY_MODEL_bf7e02eb00c0447e939599a0712eabd3",
       "style": "IPY_MODEL_3502901a016a4a319400df97fdae1424",
       "value": "2."
      }
     },
     "38f08aac21e7431388589d74877a5dd3": {
      "model_module": "@jupyter-widgets/controls",
      "model_module_version": "1.1.0",
      "model_name": "DescriptionStyleModel",
      "state": {
       "description_width": ""
      }
     },
     "391c544a9a7d43d89faf302532026524": {
      "model_module": "@jupyter-widgets/controls",
      "model_module_version": "1.1.0",
      "model_name": "TextModel",
      "state": {
       "description": "Ion mass",
       "layout": "IPY_MODEL_133059bc96784bf399491e51de592278",
       "style": "IPY_MODEL_0e000723654f445b875d9aae11980c26",
       "value": "2."
      }
     },
     "397518394f644f5880f9b067f76c29e6": {
      "model_module": "@jupyter-widgets/controls",
      "model_module_version": "1.1.0",
      "model_name": "TextModel",
      "state": {
       "description": "Ion mass",
       "layout": "IPY_MODEL_671b55dfdeec4eb9b6f282b65b910424",
       "style": "IPY_MODEL_4ae3148c8c704b5a878c23e242c3b1f1",
       "value": "Ion mass"
      }
     },
     "3a046f98672141739483922df092c1e4": {
      "model_module": "@jupyter-widgets/controls",
      "model_module_version": "1.1.0",
      "model_name": "TextModel",
      "state": {
       "description": "Ion mass",
       "layout": "IPY_MODEL_8cb9c836abb648edb14a9396a707175b",
       "style": "IPY_MODEL_bd0d154ad03e4b84903f95a62958040e",
       "value": "2"
      }
     },
     "3a64ee8a2aee4c7b8e76e559e1d6a721": {
      "model_module": "@jupyter-widgets/controls",
      "model_module_version": "1.1.0",
      "model_name": "TextModel",
      "state": {
       "description": "Ion mass",
       "layout": "IPY_MODEL_28218c90cdfe462c98efbee80cd80a98",
       "style": "IPY_MODEL_f0e6b49cddb1434ca659a4dcc64704c4",
       "value": "0."
      }
     },
     "3a670809f5884c76912665a8e72d3003": {
      "model_module": "@jupyter-widgets/controls",
      "model_module_version": "1.1.0",
      "model_name": "ButtonModel",
      "state": {
       "description": "Click Me!",
       "layout": "IPY_MODEL_37761f1ea09e46138ed4fe83a13d7274",
       "style": "IPY_MODEL_3e61fde9673a439db6fa636dfbaf36fb"
      }
     },
     "3aa7a75903b74f918016c9447b5077da": {
      "model_module": "@jupyter-widgets/controls",
      "model_module_version": "1.1.0",
      "model_name": "DescriptionStyleModel",
      "state": {
       "description_width": ""
      }
     },
     "3beee056b8d84abf8294efba4b8f92ff": {
      "model_module": "@jupyter-widgets/controls",
      "model_module_version": "1.1.0",
      "model_name": "TextModel",
      "state": {
       "description": "Ion mass",
       "layout": "IPY_MODEL_5f869a60037649aeb362572af6584c1b",
       "style": "IPY_MODEL_80d72222bb4d4adc8f2b5138f459adfa",
       "value": "2."
      }
     },
     "3c18fb1faa064a4b9b028d5d9332e9f3": {
      "model_module": "@jupyter-widgets/controls",
      "model_module_version": "1.1.0",
      "model_name": "ButtonModel",
      "state": {
       "description": "Calculate",
       "layout": "IPY_MODEL_9dad1928cb704da882875539c3cd3aaa",
       "style": "IPY_MODEL_c5c54f87d004453c9446576806c5dab3"
      }
     },
     "3cab62cd73ec462c956d28b028dbcbbe": {
      "model_module": "@jupyter-widgets/controls",
      "model_module_version": "1.1.0",
      "model_name": "DescriptionStyleModel",
      "state": {
       "description_width": ""
      }
     },
     "3d25292b47824749a85fae4aca2b95fc": {
      "model_module": "@jupyter-widgets/controls",
      "model_module_version": "1.1.0",
      "model_name": "BoxModel",
      "state": {
       "children": [
        "IPY_MODEL_6d35917f915043a6aa00eb22ce3a168e",
        "IPY_MODEL_38446c8f15be47e38c193d84f15129b3",
        "IPY_MODEL_2e5c85b5fecc4451bef276737e9f8ab5"
       ],
       "layout": "IPY_MODEL_a27e24cfbdb84b8a826bf7a9318f4133"
      }
     },
     "3d972bcfe0c644949c3ade92a549e103": {
      "model_module": "@jupyter-widgets/base",
      "model_module_version": "1.0.0",
      "model_name": "LayoutModel",
      "state": {}
     },
     "3da3385bff3c464ca2308f61b6a0c7ba": {
      "model_module": "@jupyter-widgets/controls",
      "model_module_version": "1.1.0",
      "model_name": "DescriptionStyleModel",
      "state": {
       "description_width": ""
      }
     },
     "3df340a7d20547edb3a7f6c7050d0193": {
      "model_module": "@jupyter-widgets/controls",
      "model_module_version": "1.1.0",
      "model_name": "DescriptionStyleModel",
      "state": {
       "description_width": ""
      }
     },
     "3e61fde9673a439db6fa636dfbaf36fb": {
      "model_module": "@jupyter-widgets/controls",
      "model_module_version": "1.1.0",
      "model_name": "ButtonStyleModel",
      "state": {}
     },
     "3e77a1b2d5a94a6a99e97eae73974ab0": {
      "model_module": "@jupyter-widgets/controls",
      "model_module_version": "1.1.0",
      "model_name": "TextModel",
      "state": {
       "description": "Ion mass",
       "layout": "IPY_MODEL_188a6d65fa9a4afeaa0e351ec60d17c1",
       "style": "IPY_MODEL_c84ab039d7d04291848735018245ee2d",
       "value": "2"
      }
     },
     "3e8ff8b77dd54a8fb4c0e564c16ffad9": {
      "model_module": "@jupyter-widgets/controls",
      "model_module_version": "1.1.0",
      "model_name": "DescriptionStyleModel",
      "state": {
       "description_width": ""
      }
     },
     "3ec5333428e04de39d0d0fd03587ddce": {
      "model_module": "@jupyter-widgets/controls",
      "model_module_version": "1.1.0",
      "model_name": "ButtonModel",
      "state": {
       "description": "Calculate",
       "layout": "IPY_MODEL_6e55409f3d4f417d9984f4bdb674113c",
       "style": "IPY_MODEL_ce093f61b3af4aaaa3a77240ba3ab2bb"
      }
     },
     "3fd635a128b64c118d761663fbd67595": {
      "model_module": "@jupyter-widgets/base",
      "model_module_version": "1.0.0",
      "model_name": "LayoutModel",
      "state": {}
     },
     "3ffccee2cce04def805cc2da5818b143": {
      "model_module": "@jupyter-widgets/controls",
      "model_module_version": "1.1.0",
      "model_name": "TextModel",
      "state": {
       "description": "Result",
       "layout": "IPY_MODEL_e7eb236fd9b944fdaebbf80256389911",
       "style": "IPY_MODEL_ec6e1b6a98ea4dee8d4814be6e9a75f7"
      }
     },
     "40113e79ea30485886074c0db0b3710d": {
      "model_module": "@jupyter-widgets/base",
      "model_module_version": "1.0.0",
      "model_name": "LayoutModel",
      "state": {
       "flex": "3 1 0%",
       "width": "auto"
      }
     },
     "40295955aa42493ea5f94e491409cbfa": {
      "model_module": "@jupyter-widgets/controls",
      "model_module_version": "1.1.0",
      "model_name": "ButtonModel",
      "state": {
       "description": "Click Me!",
       "layout": "IPY_MODEL_a43cdd30a64f4457a1d36dc1c3fe22b2",
       "style": "IPY_MODEL_5b2e6deb281d49cc977b95deeb5e1be4"
      }
     },
     "407b1b46d51c43d4968708883654a19a": {
      "model_module": "@jupyter-widgets/controls",
      "model_module_version": "1.1.0",
      "model_name": "TextModel",
      "state": {
       "description": "Ion mass",
       "layout": "IPY_MODEL_7561cab3ac7b42578a251dfb5086b0b3",
       "style": "IPY_MODEL_eecbc120b00f4ea498686f281f29c04d"
      }
     },
     "40994e7879c5439290bd68c5802e423d": {
      "model_module": "@jupyter-widgets/controls",
      "model_module_version": "1.1.0",
      "model_name": "ButtonModel",
      "state": {
       "description": "Click Me!",
       "layout": "IPY_MODEL_d40d930cd54e423c848ff867d61391e9",
       "style": "IPY_MODEL_8eb6f5aba2a744958185fc3f676fec30"
      }
     },
     "411b55e3ff144a84bb2e7e8a26a50753": {
      "model_module": "@jupyter-widgets/controls",
      "model_module_version": "1.1.0",
      "model_name": "DescriptionStyleModel",
      "state": {
       "description_width": ""
      }
     },
     "4149a5ea711d403ca33ceccb577af6c7": {
      "model_module": "@jupyter-widgets/base",
      "model_module_version": "1.0.0",
      "model_name": "LayoutModel",
      "state": {}
     },
     "414d5dfb865f4e92b283762b8aace31a": {
      "model_module": "@jupyter-widgets/base",
      "model_module_version": "1.0.0",
      "model_name": "LayoutModel",
      "state": {}
     },
     "41f690279ca248789e7ecaba3e037c4d": {
      "model_module": "@jupyter-widgets/controls",
      "model_module_version": "1.1.0",
      "model_name": "ButtonModel",
      "state": {
       "description": "Calculate",
       "layout": "IPY_MODEL_6449c950ebea4dd38e99f62221fcd41c",
       "style": "IPY_MODEL_93ab7f08af5a4efdb8947c13a82b181d"
      }
     },
     "43108a2f42054171ad69563d200d44e7": {
      "model_module": "@jupyter-widgets/controls",
      "model_module_version": "1.1.0",
      "model_name": "ButtonStyleModel",
      "state": {}
     },
     "43265922f2444dbe95daf0238f67914e": {
      "model_module": "@jupyter-widgets/base",
      "model_module_version": "1.0.0",
      "model_name": "LayoutModel",
      "state": {}
     },
     "434f4fc5f77943eea3670dab5d981418": {
      "model_module": "@jupyter-widgets/base",
      "model_module_version": "1.0.0",
      "model_name": "LayoutModel",
      "state": {}
     },
     "451ac2e4aa0d48e3988a0a637e5be4c6": {
      "model_module": "@jupyter-widgets/base",
      "model_module_version": "1.0.0",
      "model_name": "LayoutModel",
      "state": {}
     },
     "4583d0eedddd41869b8f4b20aaf94809": {
      "model_module": "@jupyter-widgets/controls",
      "model_module_version": "1.1.0",
      "model_name": "ButtonModel",
      "state": {
       "description": "Calculate",
       "layout": "IPY_MODEL_541ee25a41a041ee97a394fcfa68d695",
       "style": "IPY_MODEL_8633c0460086467d8747e7d37a95cb45"
      }
     },
     "4659c6d3f4c24d459bd2867436546c2a": {
      "model_module": "@jupyter-widgets/controls",
      "model_module_version": "1.1.0",
      "model_name": "TextModel",
      "state": {
       "description": "Result",
       "layout": "IPY_MODEL_078a30d27e5345f9b4b392805b5f668a",
       "style": "IPY_MODEL_d705daf610944cc59c2476dbb91a4c34",
       "value": "0."
      }
     },
     "46cc84cdcfd8408697c42995a47e604e": {
      "model_module": "@jupyter-widgets/controls",
      "model_module_version": "1.1.0",
      "model_name": "DescriptionStyleModel",
      "state": {
       "description_width": ""
      }
     },
     "47ff882d7b354b4f9a1a1d0009cdacf6": {
      "model_module": "@jupyter-widgets/base",
      "model_module_version": "1.0.0",
      "model_name": "LayoutModel",
      "state": {}
     },
     "481eeff99c6349068df1366827bccb2c": {
      "model_module": "@jupyter-widgets/controls",
      "model_module_version": "1.1.0",
      "model_name": "DescriptionStyleModel",
      "state": {
       "description_width": ""
      }
     },
     "485c9606ba924c9b8bbbcbceca965e1d": {
      "model_module": "@jupyter-widgets/controls",
      "model_module_version": "1.1.0",
      "model_name": "ButtonModel",
      "state": {
       "description": "Calculate",
       "icon": "check",
       "layout": "IPY_MODEL_1eb7d0b4716d4e248b4be2ab319314c7",
       "style": "IPY_MODEL_df1c0f7032234b248c0da4f418a3db54",
       "tooltip": "Calculate"
      }
     },
     "48eeb8d441c8493581754ebe7f317418": {
      "model_module": "@jupyter-widgets/controls",
      "model_module_version": "1.1.0",
      "model_name": "ButtonModel",
      "state": {
       "description": "Calculate",
       "icon": "check",
       "layout": "IPY_MODEL_5b65f3269b994bb8a7f15b7ca8367497",
       "style": "IPY_MODEL_b2de6c8406f344d9867c52e30f572b7f",
       "tooltip": "Calculate"
      }
     },
     "497c311fa92e41299a8e47891e0fc424": {
      "model_module": "@jupyter-widgets/controls",
      "model_module_version": "1.1.0",
      "model_name": "ButtonStyleModel",
      "state": {}
     },
     "4a2e4ab7e5fd4b5bbff3e743dd3123c5": {
      "model_module": "@jupyter-widgets/controls",
      "model_module_version": "1.1.0",
      "model_name": "ButtonStyleModel",
      "state": {}
     },
     "4a5b3e0ade884b40a15ddb4fb4e3b674": {
      "model_module": "@jupyter-widgets/controls",
      "model_module_version": "1.1.0",
      "model_name": "TextModel",
      "state": {
       "description": "Ion mass",
       "layout": "IPY_MODEL_fef54d820451403dbd253012a11f3a5c",
       "style": "IPY_MODEL_c2a0a9fa821a4de2847be6448c4154a0",
       "value": "2."
      }
     },
     "4ae3148c8c704b5a878c23e242c3b1f1": {
      "model_module": "@jupyter-widgets/controls",
      "model_module_version": "1.1.0",
      "model_name": "DescriptionStyleModel",
      "state": {
       "description_width": ""
      }
     },
     "4b47f79e33074c6887b765dfeb6d4bc3": {
      "model_module": "@jupyter-widgets/base",
      "model_module_version": "1.0.0",
      "model_name": "LayoutModel",
      "state": {}
     },
     "4b5122dba38d43918963a9fcb7c0cb39": {
      "model_module": "@jupyter-widgets/base",
      "model_module_version": "1.0.0",
      "model_name": "LayoutModel",
      "state": {}
     },
     "4bb0602f16474badbb30ddb0f29a1a70": {
      "model_module": "@jupyter-widgets/controls",
      "model_module_version": "1.1.0",
      "model_name": "TextModel",
      "state": {
       "description": "Ion mass",
       "layout": "IPY_MODEL_fe38c1780b614fbbbaea4694ac67445f",
       "style": "IPY_MODEL_6467d017ff7a49a4afdb807af71d6754",
       "value": "2."
      }
     },
     "4bb9f2348a51407e800f2bc6d921bad5": {
      "model_module": "@jupyter-widgets/controls",
      "model_module_version": "1.1.0",
      "model_name": "IntSliderModel",
      "state": {
       "layout": "IPY_MODEL_cb46b0e637a942f9a6e770bccbedcb4c",
       "style": "IPY_MODEL_df38b19cce364e42ab0accb4105019b2",
       "value": 34
      }
     },
     "4be2d2a75ae048688f243835cd57e3bc": {
      "model_module": "@jupyter-widgets/base",
      "model_module_version": "1.0.0",
      "model_name": "LayoutModel",
      "state": {}
     },
     "4bf64e1e0cbd4852a2397eb32ea478fb": {
      "model_module": "@jupyter-widgets/base",
      "model_module_version": "1.0.0",
      "model_name": "LayoutModel",
      "state": {}
     },
     "4ca052270dca4de9babcedbe542dff9c": {
      "model_module": "@jupyter-widgets/controls",
      "model_module_version": "1.1.0",
      "model_name": "DescriptionStyleModel",
      "state": {
       "description_width": ""
      }
     },
     "4d2338daf1ea424d87121e6b10b2c62a": {
      "model_module": "@jupyter-widgets/controls",
      "model_module_version": "1.1.0",
      "model_name": "BoxModel",
      "state": {
       "children": [
        "IPY_MODEL_bba598859ee44f468210eb0e7e2db965",
        "IPY_MODEL_27b44a3847424be3bfb7ad89dd23f20e",
        "IPY_MODEL_9bb47e58748a418ea2dc02f01b796b6c"
       ],
       "layout": "IPY_MODEL_a27e24cfbdb84b8a826bf7a9318f4133"
      }
     },
     "4d7bd91cf2544c8a8e81b22263c9bdb5": {
      "model_module": "@jupyter-widgets/controls",
      "model_module_version": "1.1.0",
      "model_name": "DescriptionStyleModel",
      "state": {
       "description_width": ""
      }
     },
     "4db05dfad1574f64956cc1e9b671af09": {
      "model_module": "@jupyter-widgets/controls",
      "model_module_version": "1.1.0",
      "model_name": "ButtonModel",
      "state": {
       "description": "Calculate",
       "icon": "check",
       "layout": "IPY_MODEL_ef7d383eea13442e86fe067079108ed9",
       "style": "IPY_MODEL_d3bfc298de9546aca7c104e7bc4c2e0e",
       "tooltip": "Calculate"
      }
     },
     "4df2a7ebb5eb4da1bb63f7a946cc2c59": {
      "model_module": "@jupyter-widgets/controls",
      "model_module_version": "1.1.0",
      "model_name": "ButtonStyleModel",
      "state": {}
     },
     "4df2d9f2394d4aabb67ec670c4382639": {
      "model_module": "@jupyter-widgets/base",
      "model_module_version": "1.0.0",
      "model_name": "LayoutModel",
      "state": {}
     },
     "4ea9ffef14af48308875bdb1d66a5ac2": {
      "model_module": "@jupyter-widgets/base",
      "model_module_version": "1.0.0",
      "model_name": "LayoutModel",
      "state": {}
     },
     "4ec4b060b8794f40ba266bcf7ae1ebb8": {
      "model_module": "@jupyter-widgets/base",
      "model_module_version": "1.0.0",
      "model_name": "LayoutModel",
      "state": {
       "flex": "1 1 auto",
       "width": "auto"
      }
     },
     "4f4d2932e309454989230d2a8e567e11": {
      "model_module": "@jupyter-widgets/base",
      "model_module_version": "1.0.0",
      "model_name": "LayoutModel",
      "state": {}
     },
     "505165dcac3a4cb5a9f1f5c68f2ee57a": {
      "model_module": "@jupyter-widgets/controls",
      "model_module_version": "1.1.0",
      "model_name": "ButtonModel",
      "state": {
       "description": "Calculate",
       "layout": "IPY_MODEL_bebae25492a04c239e8dacebbb45113a",
       "style": "IPY_MODEL_0b4e31dc4f66408596a9dae8a79fb531"
      }
     },
     "515639bd71cb48a287473afa9b4bebc3": {
      "model_module": "@jupyter-widgets/controls",
      "model_module_version": "1.1.0",
      "model_name": "DescriptionStyleModel",
      "state": {
       "description_width": ""
      }
     },
     "519654df812a4f68bc90bc971f8532e4": {
      "model_module": "@jupyter-widgets/base",
      "model_module_version": "1.0.0",
      "model_name": "LayoutModel",
      "state": {}
     },
     "52f698e68ba64b1b9ef2d1d6126f86f5": {
      "model_module": "@jupyter-widgets/base",
      "model_module_version": "1.0.0",
      "model_name": "LayoutModel",
      "state": {}
     },
     "534831fe98d0441cbbb0cb4fe9aaff09": {
      "model_module": "@jupyter-widgets/controls",
      "model_module_version": "1.1.0",
      "model_name": "ButtonModel",
      "state": {
       "description": "Calculate",
       "layout": "IPY_MODEL_c6ffc8b0d210464098f99f202b8af103",
       "style": "IPY_MODEL_b4984a80e1614cab9b8fbc7369efe224"
      }
     },
     "535bc11bed8d41c996eb6aa48c726245": {
      "model_module": "@jupyter-widgets/controls",
      "model_module_version": "1.1.0",
      "model_name": "ButtonStyleModel",
      "state": {}
     },
     "53bd4821f6c746f89751d1b191b72cdd": {
      "model_module": "@jupyter-widgets/controls",
      "model_module_version": "1.1.0",
      "model_name": "DescriptionStyleModel",
      "state": {
       "description_width": ""
      }
     },
     "54068f93411e43e3b9ebb30ad372a81b": {
      "model_module": "@jupyter-widgets/controls",
      "model_module_version": "1.1.0",
      "model_name": "ButtonStyleModel",
      "state": {}
     },
     "541ee25a41a041ee97a394fcfa68d695": {
      "model_module": "@jupyter-widgets/base",
      "model_module_version": "1.0.0",
      "model_name": "LayoutModel",
      "state": {}
     },
     "54ac2c5ae0cb47e1b2acbcac99ec9fce": {
      "model_module": "@jupyter-widgets/controls",
      "model_module_version": "1.1.0",
      "model_name": "ButtonStyleModel",
      "state": {}
     },
     "5573a9fb3acc4878a8f95b1c0204862f": {
      "model_module": "@jupyter-widgets/controls",
      "model_module_version": "1.1.0",
      "model_name": "TextModel",
      "state": {
       "description": "Ion mass",
       "layout": "IPY_MODEL_4149a5ea711d403ca33ceccb577af6c7",
       "style": "IPY_MODEL_0c16a9d421bd40dbb4ef16b1a5a8f30c",
       "value": "2."
      }
     },
     "55bb928c83584f459de667d0e099f40d": {
      "model_module": "@jupyter-widgets/base",
      "model_module_version": "1.0.0",
      "model_name": "LayoutModel",
      "state": {}
     },
     "560812f2fe8445cc95ddbddf0b1d82a3": {
      "model_module": "@jupyter-widgets/controls",
      "model_module_version": "1.1.0",
      "model_name": "TextModel",
      "state": {
       "description": "Ion mass",
       "layout": "IPY_MODEL_0bd2830ed01840b78a5f0c5cc2be0a4f",
       "style": "IPY_MODEL_34cb5a7829ea4062925dde5d9722f466",
       "value": "Ion mass"
      }
     },
     "563b30daabf0454a81115ffe2c7b8062": {
      "model_module": "@jupyter-widgets/controls",
      "model_module_version": "1.1.0",
      "model_name": "ButtonModel",
      "state": {
       "description": "Calculate",
       "layout": "IPY_MODEL_18ba06ee7aa44d35af03cfbf853a5148",
       "style": "IPY_MODEL_24a2a8f88edc426bbe1c9d381d082a2e"
      }
     },
     "56ae9596f4b548ccba18da0e69f5fbfc": {
      "model_module": "@jupyter-widgets/base",
      "model_module_version": "1.0.0",
      "model_name": "LayoutModel",
      "state": {}
     },
     "56b8ec416f8b487ebb7b3a2c01d68d2d": {
      "model_module": "@jupyter-widgets/controls",
      "model_module_version": "1.1.0",
      "model_name": "ButtonStyleModel",
      "state": {}
     },
     "56df871ee1b54752b5cc53defc8b16ac": {
      "model_module": "@jupyter-widgets/controls",
      "model_module_version": "1.1.0",
      "model_name": "DescriptionStyleModel",
      "state": {
       "description_width": ""
      }
     },
     "5708ec3efb0f4942bef9b8cc4ed61a90": {
      "model_module": "@jupyter-widgets/base",
      "model_module_version": "1.0.0",
      "model_name": "LayoutModel",
      "state": {}
     },
     "57527b9363e74a6993c10e258d1525ca": {
      "model_module": "@jupyter-widgets/controls",
      "model_module_version": "1.1.0",
      "model_name": "ButtonModel",
      "state": {
       "description": "Calculate",
       "layout": "IPY_MODEL_85b2f5992a48447d8c71721397bd6782",
       "style": "IPY_MODEL_56b8ec416f8b487ebb7b3a2c01d68d2d"
      }
     },
     "582f27c526764683b88e84e971b85d4b": {
      "model_module": "@jupyter-widgets/controls",
      "model_module_version": "1.1.0",
      "model_name": "ButtonStyleModel",
      "state": {}
     },
     "5913b663b9b945fe92770a3e76606b63": {
      "model_module": "@jupyter-widgets/controls",
      "model_module_version": "1.1.0",
      "model_name": "TextModel",
      "state": {
       "description": "Ion mass",
       "layout": "IPY_MODEL_b9bf1a9a3b0d42fea81072da2eacd7b1",
       "style": "IPY_MODEL_3df340a7d20547edb3a7f6c7050d0193",
       "value": "0."
      }
     },
     "594690d6e0ca42f4830fc62e15788064": {
      "model_module": "@jupyter-widgets/base",
      "model_module_version": "1.0.0",
      "model_name": "LayoutModel",
      "state": {}
     },
     "596d9fdfb9b249fc9a3a0507d1fe9546": {
      "model_module": "@jupyter-widgets/controls",
      "model_module_version": "1.1.0",
      "model_name": "ButtonStyleModel",
      "state": {}
     },
     "59c317e148e3486aa392e2b6fbc27a5c": {
      "model_module": "@jupyter-widgets/controls",
      "model_module_version": "1.1.0",
      "model_name": "ButtonModel",
      "state": {
       "description": "Calculate",
       "layout": "IPY_MODEL_242e02ac6416415c9332906bb0485e84",
       "style": "IPY_MODEL_0cf5f24ac4c24c53b8754da442ccc44c"
      }
     },
     "5b2e6deb281d49cc977b95deeb5e1be4": {
      "model_module": "@jupyter-widgets/controls",
      "model_module_version": "1.1.0",
      "model_name": "ButtonStyleModel",
      "state": {}
     },
     "5b3bf3254bf14348ba5562514fa81865": {
      "model_module": "@jupyter-widgets/base",
      "model_module_version": "1.0.0",
      "model_name": "LayoutModel",
      "state": {}
     },
     "5b3eb2ca9e6440fa91d13e36e1f85672": {
      "model_module": "@jupyter-widgets/controls",
      "model_module_version": "1.1.0",
      "model_name": "ButtonModel",
      "state": {
       "description": "Calculate",
       "layout": "IPY_MODEL_1375355ee117427e8996abb1ee2ee7ad",
       "style": "IPY_MODEL_8f4f3519cf444ffda8e496f628fcb88c"
      }
     },
     "5b65f3269b994bb8a7f15b7ca8367497": {
      "model_module": "@jupyter-widgets/base",
      "model_module_version": "1.0.0",
      "model_name": "LayoutModel",
      "state": {}
     },
     "5c021dbbfbf4425ca2ba276b47b48083": {
      "model_module": "@jupyter-widgets/controls",
      "model_module_version": "1.1.0",
      "model_name": "TextModel",
      "state": {
       "description": "Ion mass",
       "layout": "IPY_MODEL_414d5dfb865f4e92b283762b8aace31a",
       "style": "IPY_MODEL_38f08aac21e7431388589d74877a5dd3",
       "value": "2."
      }
     },
     "5c7cf4d2c8414463bb6ef0c4ffaa89b7": {
      "model_module": "@jupyter-widgets/base",
      "model_module_version": "1.0.0",
      "model_name": "LayoutModel",
      "state": {}
     },
     "5d134e2c26de4e6c9c8526947a1e8c70": {
      "model_module": "@jupyter-widgets/base",
      "model_module_version": "1.0.0",
      "model_name": "LayoutModel",
      "state": {}
     },
     "5d94718774ae46989aa9c6608cb5e7d9": {
      "model_module": "@jupyter-widgets/controls",
      "model_module_version": "1.1.0",
      "model_name": "TextModel",
      "state": {
       "disabled": true,
       "layout": "IPY_MODEL_d292bc7219f6490ca9e7b13305cee57d",
       "style": "IPY_MODEL_f9df1e1b7c9943238843c0d4dfe70781",
       "value": "Hello World!"
      }
     },
     "5d9d73379f0c428eb29c1f16b1885293": {
      "model_module": "@jupyter-widgets/controls",
      "model_module_version": "1.1.0",
      "model_name": "ButtonModel",
      "state": {
       "description": "Calculate",
       "layout": "IPY_MODEL_56ae9596f4b548ccba18da0e69f5fbfc",
       "style": "IPY_MODEL_a5c693b92f6149d6a5cf9e8a34b1deeb"
      }
     },
     "5e1f174107234086809b6f6d8a6e67ff": {
      "model_module": "@jupyter-widgets/base",
      "model_module_version": "1.0.0",
      "model_name": "LayoutModel",
      "state": {}
     },
     "5e4e32b2c098457580702b5d1e901080": {
      "model_module": "@jupyter-widgets/controls",
      "model_module_version": "1.1.0",
      "model_name": "DescriptionStyleModel",
      "state": {
       "description_width": ""
      }
     },
     "5e769e3fff6e4abd8fe713830f47d8a9": {
      "model_module": "@jupyter-widgets/base",
      "model_module_version": "1.0.0",
      "model_name": "LayoutModel",
      "state": {}
     },
     "5f4c2069b9fd494ca6cc5437fe9cb983": {
      "model_module": "@jupyter-widgets/controls",
      "model_module_version": "1.1.0",
      "model_name": "SliderStyleModel",
      "state": {
       "description_width": ""
      }
     },
     "5f661a357d084042a990816b8faa0ab4": {
      "model_module": "@jupyter-widgets/controls",
      "model_module_version": "1.1.0",
      "model_name": "DescriptionStyleModel",
      "state": {
       "description_width": ""
      }
     },
     "5f869a60037649aeb362572af6584c1b": {
      "model_module": "@jupyter-widgets/base",
      "model_module_version": "1.0.0",
      "model_name": "LayoutModel",
      "state": {}
     },
     "5fbf9da5909b45e39024c620d21bc571": {
      "model_module": "@jupyter-widgets/controls",
      "model_module_version": "1.1.0",
      "model_name": "ButtonModel",
      "state": {
       "description": "Calculate",
       "layout": "IPY_MODEL_ed77c9405465415c92d7bd16d9ef75df",
       "style": "IPY_MODEL_e132dd73b6154f31b318f12b3ba42e61"
      }
     },
     "6114159bd68849e6ae9b4d6861644e9d": {
      "model_module": "@jupyter-widgets/base",
      "model_module_version": "1.0.0",
      "model_name": "LayoutModel",
      "state": {}
     },
     "619026a220584f6b8be9c8e969c009e6": {
      "model_module": "@jupyter-widgets/base",
      "model_module_version": "1.0.0",
      "model_name": "LayoutModel",
      "state": {}
     },
     "6335192f3a0848a1ac5a349e27e19f2e": {
      "model_module": "@jupyter-widgets/controls",
      "model_module_version": "1.1.0",
      "model_name": "DescriptionStyleModel",
      "state": {
       "description_width": ""
      }
     },
     "6406391cbca94fdaac3d4b1a876e6d71": {
      "model_module": "@jupyter-widgets/controls",
      "model_module_version": "1.1.0",
      "model_name": "TextModel",
      "state": {
       "description": "Ion mass",
       "layout": "IPY_MODEL_6a4bc59a7e2d436ca50d1501707ffbb2",
       "style": "IPY_MODEL_bc67851175244afb8c669f6aca6f735d",
       "value": "Ion mass"
      }
     },
     "6409d903d3a34f28b64a3221dc1832aa": {
      "model_module": "@jupyter-widgets/controls",
      "model_module_version": "1.1.0",
      "model_name": "ButtonStyleModel",
      "state": {}
     },
     "6449c950ebea4dd38e99f62221fcd41c": {
      "model_module": "@jupyter-widgets/base",
      "model_module_version": "1.0.0",
      "model_name": "LayoutModel",
      "state": {}
     },
     "6455a46359f84eff807ded50323601dc": {
      "model_module": "@jupyter-widgets/controls",
      "model_module_version": "1.1.0",
      "model_name": "DescriptionStyleModel",
      "state": {
       "description_width": ""
      }
     },
     "6467d017ff7a49a4afdb807af71d6754": {
      "model_module": "@jupyter-widgets/controls",
      "model_module_version": "1.1.0",
      "model_name": "DescriptionStyleModel",
      "state": {
       "description_width": ""
      }
     },
     "6494d2bd169a4df0ab0c246508385975": {
      "model_module": "@jupyter-widgets/controls",
      "model_module_version": "1.1.0",
      "model_name": "ButtonModel",
      "state": {
       "description": "Click Me!",
       "layout": "IPY_MODEL_5e1f174107234086809b6f6d8a6e67ff",
       "style": "IPY_MODEL_54ac2c5ae0cb47e1b2acbcac99ec9fce"
      }
     },
     "668b3a820fb6453c8f93d8eda17175ce": {
      "model_module": "@jupyter-widgets/controls",
      "model_module_version": "1.1.0",
      "model_name": "ButtonStyleModel",
      "state": {}
     },
     "671980fa46d44dccbe027c5f55123bf3": {
      "model_module": "@jupyter-widgets/base",
      "model_module_version": "1.0.0",
      "model_name": "LayoutModel",
      "state": {
       "flex": "1 1 0%",
       "width": "auto"
      }
     },
     "671b55dfdeec4eb9b6f282b65b910424": {
      "model_module": "@jupyter-widgets/base",
      "model_module_version": "1.0.0",
      "model_name": "LayoutModel",
      "state": {}
     },
     "6818ed50dd1349e99e4e5b76d5782258": {
      "model_module": "@jupyter-widgets/controls",
      "model_module_version": "1.1.0",
      "model_name": "TextModel",
      "state": {
       "description": "Ion mass",
       "layout": "IPY_MODEL_0c813f6590964af2a9ff925e10e06d15",
       "style": "IPY_MODEL_96a754db6bfc4772a878399487ac1c89",
       "value": "3"
      }
     },
     "68342f9672fc4e09aaa380cec82b1e65": {
      "model_module": "@jupyter-widgets/controls",
      "model_module_version": "1.1.0",
      "model_name": "ButtonStyleModel",
      "state": {}
     },
     "689a8df5afe5478ebd619de5860a04ac": {
      "model_module": "@jupyter-widgets/base",
      "model_module_version": "1.0.0",
      "model_name": "LayoutModel",
      "state": {}
     },
     "6921c59cb6ef48b88beda8b8be0667a2": {
      "model_module": "@jupyter-widgets/controls",
      "model_module_version": "1.1.0",
      "model_name": "TextModel",
      "state": {
       "description": "Ion mass",
       "layout": "IPY_MODEL_2bc829f6695d4dd9a799feb78a7b0fce",
       "style": "IPY_MODEL_bdda767fa6324b8dbd6ac7081870c30a",
       "value": "Ion mass"
      }
     },
     "69355e76fe7b4ffda8c7fbb18a1afa8d": {
      "model_module": "@jupyter-widgets/controls",
      "model_module_version": "1.1.0",
      "model_name": "DescriptionStyleModel",
      "state": {
       "description_width": ""
      }
     },
     "69bc3a13822545e192f249489116bb04": {
      "model_module": "@jupyter-widgets/base",
      "model_module_version": "1.0.0",
      "model_name": "LayoutModel",
      "state": {}
     },
     "6a0e7ebd26114ec3a48068f7490f9052": {
      "model_module": "@jupyter-widgets/base",
      "model_module_version": "1.0.0",
      "model_name": "LayoutModel",
      "state": {}
     },
     "6a15b42e2dc14b8b8ee05a24de58cba5": {
      "model_module": "@jupyter-widgets/controls",
      "model_module_version": "1.1.0",
      "model_name": "TextModel",
      "state": {
       "description": "Ion mass",
       "layout": "IPY_MODEL_e3d29751a38e41e48df79d858aa3caca",
       "style": "IPY_MODEL_88fd65e2bd014c18a25783a5163568ce",
       "value": "Ion mass"
      }
     },
     "6a20d634f871485d95b72407e07c7ae0": {
      "model_module": "@jupyter-widgets/controls",
      "model_module_version": "1.1.0",
      "model_name": "DescriptionStyleModel",
      "state": {
       "description_width": ""
      }
     },
     "6a34a7d7f0994f698ed0632bdb01fb8d": {
      "model_module": "@jupyter-widgets/controls",
      "model_module_version": "1.1.0",
      "model_name": "TextModel",
      "state": {
       "description": "Ion mass",
       "layout": "IPY_MODEL_1b7443f1990a46d1b213b551ff9ed958",
       "style": "IPY_MODEL_b7ab067dd591427e8d9cd069d37eecad",
       "value": "02."
      }
     },
     "6a4bc59a7e2d436ca50d1501707ffbb2": {
      "model_module": "@jupyter-widgets/base",
      "model_module_version": "1.0.0",
      "model_name": "LayoutModel",
      "state": {}
     },
     "6ab19238975b4ae58ee3fe32ea8f617b": {
      "model_module": "@jupyter-widgets/base",
      "model_module_version": "1.0.0",
      "model_name": "LayoutModel",
      "state": {}
     },
     "6ad257a9b3cf40009a23d9f196b92606": {
      "model_module": "@jupyter-widgets/controls",
      "model_module_version": "1.1.0",
      "model_name": "TextModel",
      "state": {
       "description": "Ion mass",
       "layout": "IPY_MODEL_5c7cf4d2c8414463bb6ef0c4ffaa89b7",
       "style": "IPY_MODEL_6a20d634f871485d95b72407e07c7ae0",
       "value": "2."
      }
     },
     "6b3d0966116c48fa8ea99681c586dbe6": {
      "model_module": "@jupyter-widgets/controls",
      "model_module_version": "1.1.0",
      "model_name": "DescriptionStyleModel",
      "state": {
       "description_width": ""
      }
     },
     "6ccdfbf5efff4dd29f486468e0fbf0fe": {
      "model_module": "@jupyter-widgets/controls",
      "model_module_version": "1.1.0",
      "model_name": "ButtonModel",
      "state": {
       "description": "Calculate",
       "layout": "IPY_MODEL_55bb928c83584f459de667d0e099f40d",
       "style": "IPY_MODEL_32bfc1473c274b7cb777a552f2583826"
      }
     },
     "6d35917f915043a6aa00eb22ce3a168e": {
      "model_module": "@jupyter-widgets/controls",
      "model_module_version": "1.1.0",
      "model_name": "ButtonModel",
      "state": {
       "button_style": "danger",
       "description": "weight=1; 0%",
       "layout": "IPY_MODEL_671980fa46d44dccbe027c5f55123bf3",
       "style": "IPY_MODEL_43108a2f42054171ad69563d200d44e7"
      }
     },
     "6d41332aae0645878b99972dddec4f66": {
      "model_module": "@jupyter-widgets/controls",
      "model_module_version": "1.1.0",
      "model_name": "ButtonModel",
      "state": {
       "description": "Click Me!",
       "layout": "IPY_MODEL_f7a274fcdaed416fb70f14b961c88802",
       "style": "IPY_MODEL_769808c843be4675b3a754c78707bb61"
      }
     },
     "6e55409f3d4f417d9984f4bdb674113c": {
      "model_module": "@jupyter-widgets/base",
      "model_module_version": "1.0.0",
      "model_name": "LayoutModel",
      "state": {}
     },
     "6e72e46e43f848199c139121e405933a": {
      "model_module": "@jupyter-widgets/controls",
      "model_module_version": "1.1.0",
      "model_name": "TextModel",
      "state": {
       "description": "Ion mass",
       "layout": "IPY_MODEL_b5e552a29a424cc597913720f68e4a7e",
       "style": "IPY_MODEL_5e4e32b2c098457580702b5d1e901080",
       "value": "Ion mass"
      }
     },
     "6f37c59cf6b34d15adf5d5ef7bff48a1": {
      "model_module": "@jupyter-widgets/controls",
      "model_module_version": "1.1.0",
      "model_name": "DescriptionStyleModel",
      "state": {
       "description_width": ""
      }
     },
     "702922b35d564f7893cbbf867dbff4f2": {
      "model_module": "@jupyter-widgets/base",
      "model_module_version": "1.0.0",
      "model_name": "LayoutModel",
      "state": {}
     },
     "703637f4ddd548bf8a2342599a6bbb22": {
      "model_module": "@jupyter-widgets/controls",
      "model_module_version": "1.1.0",
      "model_name": "ButtonModel",
      "state": {
       "description": "Click Me!",
       "layout": "IPY_MODEL_eb7a1ed0b9a848e3895b714bfc5addf8",
       "style": "IPY_MODEL_fb0d58c07eed4c79a19c51f4b91f7b13"
      }
     },
     "70d439ce348546b08c563a03b750668e": {
      "model_module": "@jupyter-widgets/controls",
      "model_module_version": "1.1.0",
      "model_name": "TextModel",
      "state": {
       "description": "Ion mass",
       "layout": "IPY_MODEL_9535b622a9c548608409889ae7250c68",
       "style": "IPY_MODEL_56df871ee1b54752b5cc53defc8b16ac",
       "value": "2."
      }
     },
     "728dd5a6f7214c53be575fb523a20bdd": {
      "model_module": "@jupyter-widgets/controls",
      "model_module_version": "1.1.0",
      "model_name": "DescriptionStyleModel",
      "state": {
       "description_width": ""
      }
     },
     "73b6f33db4b845c193056cffeaec1b97": {
      "model_module": "@jupyter-widgets/controls",
      "model_module_version": "1.1.0",
      "model_name": "ButtonStyleModel",
      "state": {}
     },
     "7433991f1bf14b84ad5ea74adaba7aac": {
      "model_module": "@jupyter-widgets/controls",
      "model_module_version": "1.1.0",
      "model_name": "ButtonModel",
      "state": {
       "description": "Calculate",
       "layout": "IPY_MODEL_43265922f2444dbe95daf0238f67914e",
       "style": "IPY_MODEL_596d9fdfb9b249fc9a3a0507d1fe9546"
      }
     },
     "747b6a8316104ac58a4ca1140981c947": {
      "model_module": "@jupyter-widgets/controls",
      "model_module_version": "1.1.0",
      "model_name": "ButtonStyleModel",
      "state": {}
     },
     "74f3d4e455da4630957a288814f1cf1d": {
      "model_module": "@jupyter-widgets/base",
      "model_module_version": "1.0.0",
      "model_name": "LayoutModel",
      "state": {}
     },
     "7561cab3ac7b42578a251dfb5086b0b3": {
      "model_module": "@jupyter-widgets/base",
      "model_module_version": "1.0.0",
      "model_name": "LayoutModel",
      "state": {}
     },
     "767b6e8cbe004c6a80ef232fcc6cd67d": {
      "model_module": "@jupyter-widgets/controls",
      "model_module_version": "1.1.0",
      "model_name": "TextModel",
      "state": {
       "description": "Ion mass",
       "layout": "IPY_MODEL_82c0cd9f38a34dd59e4fdacc4f975955",
       "style": "IPY_MODEL_c120ea7a6fa7437abfcdac6c40383d34",
       "value": "2"
      }
     },
     "769808c843be4675b3a754c78707bb61": {
      "model_module": "@jupyter-widgets/controls",
      "model_module_version": "1.1.0",
      "model_name": "ButtonStyleModel",
      "state": {}
     },
     "77b916e6aad24a95bc499c580c5f7410": {
      "model_module": "@jupyter-widgets/controls",
      "model_module_version": "1.1.0",
      "model_name": "TextModel",
      "state": {
       "description": "Ion mass",
       "layout": "IPY_MODEL_122b525a97234be49570c5e0a06beafa",
       "style": "IPY_MODEL_1045c1be864e4ed6bdc7e485d50fed59",
       "value": "2"
      }
     },
     "77c2b4ba595b45ac82b56a65e9edf185": {
      "model_module": "@jupyter-widgets/controls",
      "model_module_version": "1.1.0",
      "model_name": "DescriptionStyleModel",
      "state": {
       "description_width": ""
      }
     },
     "79f6f8fff21f413c8b2d376cae2a30eb": {
      "model_module": "@jupyter-widgets/controls",
      "model_module_version": "1.1.0",
      "model_name": "TextModel",
      "state": {
       "description": "Ion mass",
       "layout": "IPY_MODEL_ee6e53f262104332afe5827145ca8e49",
       "style": "IPY_MODEL_c169966cfcbe40a98c659c1a73f68bd6",
       "value": "0."
      }
     },
     "79f962b04ba6464ea048a4b69f5ae18c": {
      "model_module": "@jupyter-widgets/controls",
      "model_module_version": "1.1.0",
      "model_name": "TextModel",
      "state": {
       "description": "Ion mass",
       "layout": "IPY_MODEL_4df2d9f2394d4aabb67ec670c4382639",
       "style": "IPY_MODEL_e17bf18430df4b1d907fd509008c6471",
       "value": "Ion mass"
      }
     },
     "7a495cb16eb5423f861ca43ead56da81": {
      "model_module": "@jupyter-widgets/base",
      "model_module_version": "1.0.0",
      "model_name": "LayoutModel",
      "state": {}
     },
     "7ccb851b01d841a6aea352846dd63d39": {
      "model_module": "@jupyter-widgets/controls",
      "model_module_version": "1.1.0",
      "model_name": "TextModel",
      "state": {
       "description": "Ion mass",
       "layout": "IPY_MODEL_e36cafa7d1ad487d99fe54bbd1806249",
       "style": "IPY_MODEL_a6c4b970435f4363811608b9493cb988",
       "value": "2."
      }
     },
     "7ef6e53bba2b470aabd5982d1dc37810": {
      "model_module": "@jupyter-widgets/base",
      "model_module_version": "1.0.0",
      "model_name": "LayoutModel",
      "state": {}
     },
     "7f0d50e8db2b40bcb17a5aeb99909c93": {
      "model_module": "@jupyter-widgets/controls",
      "model_module_version": "1.1.0",
      "model_name": "DescriptionStyleModel",
      "state": {
       "description_width": ""
      }
     },
     "7f94c89854224483bdc4bdc3bb35e327": {
      "model_module": "@jupyter-widgets/controls",
      "model_module_version": "1.1.0",
      "model_name": "ButtonStyleModel",
      "state": {}
     },
     "807d5fefa98441bfb047a75bf2246723": {
      "model_module": "@jupyter-widgets/controls",
      "model_module_version": "1.1.0",
      "model_name": "DescriptionStyleModel",
      "state": {
       "description_width": ""
      }
     },
     "80d72222bb4d4adc8f2b5138f459adfa": {
      "model_module": "@jupyter-widgets/controls",
      "model_module_version": "1.1.0",
      "model_name": "DescriptionStyleModel",
      "state": {
       "description_width": ""
      }
     },
     "8114587640564c4c80550c6f7f92cd39": {
      "model_module": "@jupyter-widgets/controls",
      "model_module_version": "1.1.0",
      "model_name": "TextModel",
      "state": {
       "description": "Result",
       "layout": "IPY_MODEL_18f73fdaffc04537b401bd504773fe98",
       "style": "IPY_MODEL_302873bbdb7947d98feaadea70c7d772",
       "value": "0."
      }
     },
     "817a651369d2479298cc892a8c8a7a7e": {
      "model_module": "@jupyter-widgets/controls",
      "model_module_version": "1.1.0",
      "model_name": "TextModel",
      "state": {
       "description": "Ion mass",
       "layout": "IPY_MODEL_3601061cad7040d4ad5dc5982cdbd946",
       "style": "IPY_MODEL_8f9a16ccaec74695a93845daabea2edb",
       "value": "2."
      }
     },
     "81ca93ba175b4ccdb04c5fdc6fde0452": {
      "model_module": "@jupyter-widgets/base",
      "model_module_version": "1.0.0",
      "model_name": "LayoutModel",
      "state": {}
     },
     "829d3516d44f42b6a6cff81d522de9a3": {
      "model_module": "@jupyter-widgets/controls",
      "model_module_version": "1.1.0",
      "model_name": "ButtonStyleModel",
      "state": {}
     },
     "82b6dee7da494268b88d0f7fd5ce4780": {
      "model_module": "@jupyter-widgets/base",
      "model_module_version": "1.0.0",
      "model_name": "LayoutModel",
      "state": {}
     },
     "82c0cd9f38a34dd59e4fdacc4f975955": {
      "model_module": "@jupyter-widgets/base",
      "model_module_version": "1.0.0",
      "model_name": "LayoutModel",
      "state": {}
     },
     "83231c2c44934b118d507eafdd156b37": {
      "model_module": "@jupyter-widgets/controls",
      "model_module_version": "1.1.0",
      "model_name": "DescriptionStyleModel",
      "state": {
       "description_width": ""
      }
     },
     "83784e7c98884195bbca309a01bf6c32": {
      "model_module": "@jupyter-widgets/base",
      "model_module_version": "1.0.0",
      "model_name": "LayoutModel",
      "state": {}
     },
     "848ca569dac24d1e8ad667a819b75348": {
      "model_module": "@jupyter-widgets/controls",
      "model_module_version": "1.1.0",
      "model_name": "ButtonModel",
      "state": {
       "description": "Calculate",
       "icon": "check",
       "layout": "IPY_MODEL_2680d063e9bf49f5a4268cf8a615ca08",
       "style": "IPY_MODEL_3580f2b0af9140af94dc478d97e94420",
       "tooltip": "Calculate"
      }
     },
     "852853285066429497b074ab748a93d0": {
      "model_module": "@jupyter-widgets/controls",
      "model_module_version": "1.1.0",
      "model_name": "ButtonModel",
      "state": {
       "description": "Calculate",
       "icon": "check",
       "layout": "IPY_MODEL_f747ede9f1cb4d22b935afd15fa7bb2b",
       "style": "IPY_MODEL_340add61a73d4a7a82651b7d2d7fb832",
       "tooltip": "Calculate"
      }
     },
     "854dade3ecc945c5b861657709ec0b3d": {
      "model_module": "@jupyter-widgets/base",
      "model_module_version": "1.0.0",
      "model_name": "LayoutModel",
      "state": {}
     },
     "8575f0dd637748dc84be6ed32a7d020c": {
      "model_module": "@jupyter-widgets/controls",
      "model_module_version": "1.1.0",
      "model_name": "ButtonStyleModel",
      "state": {}
     },
     "85b2f5992a48447d8c71721397bd6782": {
      "model_module": "@jupyter-widgets/base",
      "model_module_version": "1.0.0",
      "model_name": "LayoutModel",
      "state": {}
     },
     "8633c0460086467d8747e7d37a95cb45": {
      "model_module": "@jupyter-widgets/controls",
      "model_module_version": "1.1.0",
      "model_name": "ButtonStyleModel",
      "state": {}
     },
     "8667821207c34ee087df5f67f27d55a7": {
      "model_module": "@jupyter-widgets/controls",
      "model_module_version": "1.1.0",
      "model_name": "TextModel",
      "state": {
       "description": "Result",
       "layout": "IPY_MODEL_ab981bcbe76e4f1599fdb88682018364",
       "style": "IPY_MODEL_3cab62cd73ec462c956d28b028dbcbbe",
       "value": "4.0"
      }
     },
     "882c67eea9aa4f3fbd03f1973c971cd1": {
      "model_module": "@jupyter-widgets/controls",
      "model_module_version": "1.1.0",
      "model_name": "ButtonStyleModel",
      "state": {}
     },
     "88fd65e2bd014c18a25783a5163568ce": {
      "model_module": "@jupyter-widgets/controls",
      "model_module_version": "1.1.0",
      "model_name": "DescriptionStyleModel",
      "state": {
       "description_width": ""
      }
     },
     "88feca00bd4141d98910cd48d0672189": {
      "model_module": "@jupyter-widgets/base",
      "model_module_version": "1.0.0",
      "model_name": "LayoutModel",
      "state": {}
     },
     "8965c98b385f4acaa9a6958b8657a64b": {
      "model_module": "@jupyter-widgets/base",
      "model_module_version": "1.0.0",
      "model_name": "LayoutModel",
      "state": {}
     },
     "8a454a385c4d403b8398406c6c32a6e2": {
      "model_module": "@jupyter-widgets/base",
      "model_module_version": "1.0.0",
      "model_name": "LayoutModel",
      "state": {}
     },
     "8bbc179b4848443babef0e54f30dafb6": {
      "model_module": "@jupyter-widgets/controls",
      "model_module_version": "1.1.0",
      "model_name": "ButtonModel",
      "state": {
       "description": "Click Me!",
       "layout": "IPY_MODEL_4b5122dba38d43918963a9fcb7c0cb39",
       "style": "IPY_MODEL_1f995c51aab949f29698eef0030c6d56"
      }
     },
     "8c645a42ca1b4e2e9f8ab917556ebb95": {
      "model_module": "@jupyter-widgets/base",
      "model_module_version": "1.0.0",
      "model_name": "LayoutModel",
      "state": {}
     },
     "8cb9c836abb648edb14a9396a707175b": {
      "model_module": "@jupyter-widgets/base",
      "model_module_version": "1.0.0",
      "model_name": "LayoutModel",
      "state": {}
     },
     "8ceac0feaf2d49889a8f212e6d0045c7": {
      "model_module": "@jupyter-widgets/base",
      "model_module_version": "1.0.0",
      "model_name": "LayoutModel",
      "state": {}
     },
     "8d8a8b612a4442f99ab9fd4302952760": {
      "model_module": "@jupyter-widgets/controls",
      "model_module_version": "1.1.0",
      "model_name": "ButtonStyleModel",
      "state": {}
     },
     "8e2a3800681440719aa59d9f00a5e480": {
      "model_module": "@jupyter-widgets/controls",
      "model_module_version": "1.1.0",
      "model_name": "TextModel",
      "state": {
       "description": "Ion mass",
       "layout": "IPY_MODEL_7ef6e53bba2b470aabd5982d1dc37810",
       "style": "IPY_MODEL_16576db3b0c3476ea65d783e7ffccb1f",
       "value": "2."
      }
     },
     "8e47257f0716493cbea110f6989de154": {
      "model_module": "@jupyter-widgets/base",
      "model_module_version": "1.0.0",
      "model_name": "LayoutModel",
      "state": {}
     },
     "8eb6f5aba2a744958185fc3f676fec30": {
      "model_module": "@jupyter-widgets/controls",
      "model_module_version": "1.1.0",
      "model_name": "ButtonStyleModel",
      "state": {}
     },
     "8f4f3519cf444ffda8e496f628fcb88c": {
      "model_module": "@jupyter-widgets/controls",
      "model_module_version": "1.1.0",
      "model_name": "ButtonStyleModel",
      "state": {}
     },
     "8f9a16ccaec74695a93845daabea2edb": {
      "model_module": "@jupyter-widgets/controls",
      "model_module_version": "1.1.0",
      "model_name": "DescriptionStyleModel",
      "state": {
       "description_width": ""
      }
     },
     "8faa224dae304506a6f91d2e101be1df": {
      "model_module": "@jupyter-widgets/base",
      "model_module_version": "1.0.0",
      "model_name": "LayoutModel",
      "state": {}
     },
     "8fbf6f54e9c5471d97e8209f037530c1": {
      "model_module": "@jupyter-widgets/controls",
      "model_module_version": "1.1.0",
      "model_name": "DescriptionStyleModel",
      "state": {
       "description_width": ""
      }
     },
     "90a7c26b0d124bf9a2141b1dca712e0e": {
      "model_module": "@jupyter-widgets/controls",
      "model_module_version": "1.1.0",
      "model_name": "ButtonModel",
      "state": {
       "description": "Calculate",
       "layout": "IPY_MODEL_056e36b994e74d19839cb1505526645c",
       "style": "IPY_MODEL_535bc11bed8d41c996eb6aa48c726245"
      }
     },
     "913a5b593234465cb31322d3199bbd5d": {
      "model_module": "@jupyter-widgets/controls",
      "model_module_version": "1.1.0",
      "model_name": "DescriptionStyleModel",
      "state": {
       "description_width": ""
      }
     },
     "91e73750231f4669b38fbffc9bb06baf": {
      "model_module": "@jupyter-widgets/controls",
      "model_module_version": "1.1.0",
      "model_name": "ButtonStyleModel",
      "state": {}
     },
     "9244189d212a459f92c5d4f06fd0210e": {
      "model_module": "@jupyter-widgets/controls",
      "model_module_version": "1.1.0",
      "model_name": "ButtonModel",
      "state": {
       "description": "Calculate",
       "layout": "IPY_MODEL_d5cd351883d24c6ea0dd796043a54262",
       "style": "IPY_MODEL_17704a65c5ec4eb4aff04b822b6673cc"
      }
     },
     "93ab7f08af5a4efdb8947c13a82b181d": {
      "model_module": "@jupyter-widgets/controls",
      "model_module_version": "1.1.0",
      "model_name": "ButtonStyleModel",
      "state": {}
     },
     "944a2adcf5eb41cb9da8b370eb1ef07f": {
      "model_module": "@jupyter-widgets/controls",
      "model_module_version": "1.1.0",
      "model_name": "ButtonModel",
      "state": {
       "description": "Calculate",
       "layout": "IPY_MODEL_8faa224dae304506a6f91d2e101be1df",
       "style": "IPY_MODEL_8575f0dd637748dc84be6ed32a7d020c"
      }
     },
     "947456ebb8bf442b8b535fb20174479d": {
      "model_module": "@jupyter-widgets/base",
      "model_module_version": "1.0.0",
      "model_name": "LayoutModel",
      "state": {}
     },
     "9487844e60244f66a7d4fabc7f6cd046": {
      "model_module": "@jupyter-widgets/controls",
      "model_module_version": "1.1.0",
      "model_name": "ButtonModel",
      "state": {
       "description": "Calculate",
       "layout": "IPY_MODEL_15f4764cfcb74e73981e1285c8038756",
       "style": "IPY_MODEL_bba483c3039e4487a26eea28ce27211d"
      }
     },
     "94ba2a3f932b4da1982e8de59b758752": {
      "model_module": "@jupyter-widgets/controls",
      "model_module_version": "1.1.0",
      "model_name": "TextModel",
      "state": {
       "description": "Ion mass",
       "layout": "IPY_MODEL_52f698e68ba64b1b9ef2d1d6126f86f5",
       "style": "IPY_MODEL_f1475b59d9e54ce4aac28a58846057de",
       "value": "1"
      }
     },
     "94da04a6330a4d8faf10a20fecff866b": {
      "model_module": "@jupyter-widgets/controls",
      "model_module_version": "1.1.0",
      "model_name": "TextModel",
      "state": {
       "description": "Ion mass",
       "layout": "IPY_MODEL_4bf64e1e0cbd4852a2397eb32ea478fb",
       "style": "IPY_MODEL_1c7b2767cf934cf1883ae35addabf2b6",
       "value": "0."
      }
     },
     "94ffce5501b5460aaafd8fcd9611d66c": {
      "model_module": "@jupyter-widgets/controls",
      "model_module_version": "1.1.0",
      "model_name": "ButtonModel",
      "state": {
       "description": "Calculate",
       "layout": "IPY_MODEL_308611fa24874314baf0655871717c4b",
       "style": "IPY_MODEL_99bf9f45ecd34fd7be7bd6f6fa5cb2ec"
      }
     },
     "9535b622a9c548608409889ae7250c68": {
      "model_module": "@jupyter-widgets/base",
      "model_module_version": "1.0.0",
      "model_name": "LayoutModel",
      "state": {}
     },
     "95384da0480e4958b3e0d5d05d78614f": {
      "model_module": "@jupyter-widgets/base",
      "model_module_version": "1.0.0",
      "model_name": "LayoutModel",
      "state": {}
     },
     "95b688c99502470abbc4081c7de07956": {
      "model_module": "@jupyter-widgets/base",
      "model_module_version": "1.0.0",
      "model_name": "LayoutModel",
      "state": {}
     },
     "95f9b90ae0244ee38a23cbdf66d10645": {
      "model_module": "@jupyter-widgets/controls",
      "model_module_version": "1.1.0",
      "model_name": "DescriptionStyleModel",
      "state": {
       "description_width": ""
      }
     },
     "95fe6e6670514e57acab7fdda57139d3": {
      "model_module": "@jupyter-widgets/controls",
      "model_module_version": "1.1.0",
      "model_name": "ButtonStyleModel",
      "state": {}
     },
     "963b16345cbd430dbdfd22508593bcbe": {
      "model_module": "@jupyter-widgets/controls",
      "model_module_version": "1.1.0",
      "model_name": "ButtonStyleModel",
      "state": {}
     },
     "96889816e74b4ec4a8af1ad64558fb59": {
      "model_module": "@jupyter-widgets/controls",
      "model_module_version": "1.1.0",
      "model_name": "ButtonModel",
      "state": {
       "description": "Calculate",
       "layout": "IPY_MODEL_8c645a42ca1b4e2e9f8ab917556ebb95",
       "style": "IPY_MODEL_e9e35781ba1f4844bf463bab0b43531a"
      }
     },
     "96a754db6bfc4772a878399487ac1c89": {
      "model_module": "@jupyter-widgets/controls",
      "model_module_version": "1.1.0",
      "model_name": "DescriptionStyleModel",
      "state": {
       "description_width": ""
      }
     },
     "96bb069bd6ca417789b9c4a7ca351628": {
      "model_module": "@jupyter-widgets/base",
      "model_module_version": "1.0.0",
      "model_name": "LayoutModel",
      "state": {}
     },
     "96c4dd45efa943d1a611babd5c627f49": {
      "model_module": "@jupyter-widgets/controls",
      "model_module_version": "1.1.0",
      "model_name": "TextModel",
      "state": {
       "description": "Result",
       "layout": "IPY_MODEL_0738f1ae4ec843cf82b837eb6be0ca71",
       "style": "IPY_MODEL_ca5dc020e2524652a7bfc262ec59c9e4",
       "value": "0."
      }
     },
     "971e1436b6084603acb10757dc5ebbf4": {
      "model_module": "@jupyter-widgets/base",
      "model_module_version": "1.0.0",
      "model_name": "LayoutModel",
      "state": {}
     },
     "973e99d97707490489fce9afbd22a8e0": {
      "model_module": "@jupyter-widgets/controls",
      "model_module_version": "1.1.0",
      "model_name": "ButtonStyleModel",
      "state": {}
     },
     "9774fe7078db4c94986e496af990df07": {
      "model_module": "@jupyter-widgets/controls",
      "model_module_version": "1.1.0",
      "model_name": "ButtonStyleModel",
      "state": {}
     },
     "97d62ef7d2894249b3cff804cc85a352": {
      "model_module": "@jupyter-widgets/controls",
      "model_module_version": "1.1.0",
      "model_name": "ButtonModel",
      "state": {
       "description": "Calculate",
       "layout": "IPY_MODEL_1cf904b571b34144b1aa5392140ce68a",
       "style": "IPY_MODEL_1291afc4c6f0463da0fbb85f389777a8"
      }
     },
     "97da03ec70084cc8822e2ab76735aaa7": {
      "model_module": "@jupyter-widgets/controls",
      "model_module_version": "1.1.0",
      "model_name": "ButtonModel",
      "state": {
       "description": "Calculate",
       "layout": "IPY_MODEL_7a495cb16eb5423f861ca43ead56da81",
       "style": "IPY_MODEL_ba4c7f48d3e240cd9b56cc7853e69be4"
      }
     },
     "97e48edc9e024078b761a4c20273b994": {
      "model_module": "@jupyter-widgets/controls",
      "model_module_version": "1.1.0",
      "model_name": "IntSliderModel",
      "state": {
       "layout": "IPY_MODEL_1ab120014f7b472c8e07f3cfb0df1c7c",
       "style": "IPY_MODEL_a89634f982e04145b50ad6eca9c03e37"
      }
     },
     "9827c228068645628372948fb24ce1c4": {
      "model_module": "@jupyter-widgets/controls",
      "model_module_version": "1.1.0",
      "model_name": "DescriptionStyleModel",
      "state": {
       "description_width": ""
      }
     },
     "98adf9ca732942f39464ce58e8c2c37d": {
      "model_module": "@jupyter-widgets/controls",
      "model_module_version": "1.1.0",
      "model_name": "SliderStyleModel",
      "state": {
       "description_width": ""
      }
     },
     "9924a7ddd9a6465c9ea2025b773dc6a3": {
      "model_module": "@jupyter-widgets/base",
      "model_module_version": "1.0.0",
      "model_name": "LayoutModel",
      "state": {}
     },
     "994982c5fd1c4a96b4fb9a4a97579c4d": {
      "model_module": "@jupyter-widgets/base",
      "model_module_version": "1.0.0",
      "model_name": "LayoutModel",
      "state": {}
     },
     "99bf9f45ecd34fd7be7bd6f6fa5cb2ec": {
      "model_module": "@jupyter-widgets/controls",
      "model_module_version": "1.1.0",
      "model_name": "ButtonStyleModel",
      "state": {}
     },
     "9ac1f7152fe14ef99bb0e5a5c30104d1": {
      "model_module": "@jupyter-widgets/controls",
      "model_module_version": "1.1.0",
      "model_name": "TextModel",
      "state": {
       "description": "Ion mass",
       "layout": "IPY_MODEL_74f3d4e455da4630957a288814f1cf1d",
       "style": "IPY_MODEL_5f661a357d084042a990816b8faa0ab4",
       "value": "2"
      }
     },
     "9bb47e58748a418ea2dc02f01b796b6c": {
      "model_module": "@jupyter-widgets/controls",
      "model_module_version": "1.1.0",
      "model_name": "ButtonModel",
      "state": {
       "button_style": "danger",
       "description": "weight=1; auto",
       "layout": "IPY_MODEL_4ec4b060b8794f40ba266bcf7ae1ebb8",
       "style": "IPY_MODEL_54068f93411e43e3b9ebb30ad372a81b"
      }
     },
     "9cbbd52db92348b7b7c01605c411774c": {
      "model_module": "@jupyter-widgets/controls",
      "model_module_version": "1.1.0",
      "model_name": "TextModel",
      "state": {
       "description": "Result",
       "layout": "IPY_MODEL_95384da0480e4958b3e0d5d05d78614f",
       "style": "IPY_MODEL_a7e78279301f40118906e2c0ef9b4559",
       "value": "4.0"
      }
     },
     "9d0b2d1f1b38472aa7f07c92bd71f42c": {
      "model_module": "@jupyter-widgets/controls",
      "model_module_version": "1.1.0",
      "model_name": "IntSliderModel",
      "state": {
       "continuous_update": false,
       "description": "Test:",
       "layout": "IPY_MODEL_519654df812a4f68bc90bc971f8532e4",
       "max": 10,
       "style": "IPY_MODEL_5f4c2069b9fd494ca6cc5437fe9cb983",
       "value": 6
      }
     },
     "9dad1928cb704da882875539c3cd3aaa": {
      "model_module": "@jupyter-widgets/base",
      "model_module_version": "1.0.0",
      "model_name": "LayoutModel",
      "state": {}
     },
     "9e80244ec1294f589314ac447f7743d0": {
      "model_module": "@jupyter-widgets/controls",
      "model_module_version": "1.1.0",
      "model_name": "DescriptionStyleModel",
      "state": {
       "description_width": ""
      }
     },
     "9eaf033d4b104d8fa7cec6fff91a008d": {
      "model_module": "@jupyter-widgets/base",
      "model_module_version": "1.0.0",
      "model_name": "LayoutModel",
      "state": {}
     },
     "9fac882845b249e8a87cbaceddd13e6c": {
      "model_module": "@jupyter-widgets/controls",
      "model_module_version": "1.1.0",
      "model_name": "TextModel",
      "state": {
       "description": "Ion mass",
       "layout": "IPY_MODEL_e339076a9d794de0940b696bc5295872",
       "style": "IPY_MODEL_ce4375899e9d4180a072d469c3176d09",
       "value": "0."
      }
     },
     "9fc66484fe25495fa1749dca3b2bed04": {
      "model_module": "@jupyter-widgets/controls",
      "model_module_version": "1.1.0",
      "model_name": "SliderStyleModel",
      "state": {
       "description_width": ""
      }
     },
     "a08a62a6778a4f618cb32f11467e5d31": {
      "model_module": "@jupyter-widgets/base",
      "model_module_version": "1.0.0",
      "model_name": "LayoutModel",
      "state": {}
     },
     "a20fb7e2f596494ab2217ace59159de2": {
      "model_module": "@jupyter-widgets/controls",
      "model_module_version": "1.1.0",
      "model_name": "ButtonStyleModel",
      "state": {}
     },
     "a271ea5e2b5545c69415b1367e382cf9": {
      "model_module": "@jupyter-widgets/controls",
      "model_module_version": "1.1.0",
      "model_name": "ButtonStyleModel",
      "state": {}
     },
     "a27e24cfbdb84b8a826bf7a9318f4133": {
      "model_module": "@jupyter-widgets/base",
      "model_module_version": "1.0.0",
      "model_name": "LayoutModel",
      "state": {
       "align_items": "stretch",
       "display": "flex",
       "flex_flow": "row",
       "width": "70%"
      }
     },
     "a30026e9777a4ee5a840cb73c147109e": {
      "model_module": "@jupyter-widgets/controls",
      "model_module_version": "1.1.0",
      "model_name": "ButtonStyleModel",
      "state": {}
     },
     "a36edbfeb2a1477cbab8f3cd5623b376": {
      "model_module": "@jupyter-widgets/controls",
      "model_module_version": "1.1.0",
      "model_name": "TextModel",
      "state": {
       "description": "Ion mass",
       "layout": "IPY_MODEL_47ff882d7b354b4f9a1a1d0009cdacf6",
       "style": "IPY_MODEL_d97c2837e7824db99d5de0b39c606954",
       "value": "2."
      }
     },
     "a43cdd30a64f4457a1d36dc1c3fe22b2": {
      "model_module": "@jupyter-widgets/base",
      "model_module_version": "1.0.0",
      "model_name": "LayoutModel",
      "state": {}
     },
     "a5c693b92f6149d6a5cf9e8a34b1deeb": {
      "model_module": "@jupyter-widgets/controls",
      "model_module_version": "1.1.0",
      "model_name": "ButtonStyleModel",
      "state": {}
     },
     "a5d49d0472664d36b8b856f4ea5d8451": {
      "model_module": "@jupyter-widgets/base",
      "model_module_version": "1.0.0",
      "model_name": "LayoutModel",
      "state": {}
     },
     "a6399abf66c346d6bf2e0605ab74ce0f": {
      "model_module": "@jupyter-widgets/controls",
      "model_module_version": "1.1.0",
      "model_name": "DescriptionStyleModel",
      "state": {
       "description_width": ""
      }
     },
     "a6c4b970435f4363811608b9493cb988": {
      "model_module": "@jupyter-widgets/controls",
      "model_module_version": "1.1.0",
      "model_name": "DescriptionStyleModel",
      "state": {
       "description_width": ""
      }
     },
     "a6eaa75623ab40089b1e6ecb769ea985": {
      "model_module": "@jupyter-widgets/controls",
      "model_module_version": "1.1.0",
      "model_name": "TextModel",
      "state": {
       "description": "Ion mass",
       "layout": "IPY_MODEL_594690d6e0ca42f4830fc62e15788064",
       "style": "IPY_MODEL_144b4c00dfd34a3bb7cdeb5e4eff006c",
       "value": "2."
      }
     },
     "a71e7ade61114caa99a18b75c7ac8068": {
      "model_module": "@jupyter-widgets/controls",
      "model_module_version": "1.1.0",
      "model_name": "TextModel",
      "state": {
       "description": "Result",
       "layout": "IPY_MODEL_619026a220584f6b8be9c8e969c009e6",
       "style": "IPY_MODEL_6335192f3a0848a1ac5a349e27e19f2e",
       "value": "0."
      }
     },
     "a7bd98d9a8aa4dcba91b65194ba4f04b": {
      "model_module": "@jupyter-widgets/base",
      "model_module_version": "1.0.0",
      "model_name": "LayoutModel",
      "state": {}
     },
     "a7cbb3fdac3049b4aa1fc4c466b6ce10": {
      "model_module": "@jupyter-widgets/controls",
      "model_module_version": "1.1.0",
      "model_name": "TextModel",
      "state": {
       "description": "Ion mass",
       "layout": "IPY_MODEL_3fd635a128b64c118d761663fbd67595",
       "style": "IPY_MODEL_3e8ff8b77dd54a8fb4c0e564c16ffad9",
       "value": "2."
      }
     },
     "a7e78279301f40118906e2c0ef9b4559": {
      "model_module": "@jupyter-widgets/controls",
      "model_module_version": "1.1.0",
      "model_name": "DescriptionStyleModel",
      "state": {
       "description_width": ""
      }
     },
     "a89634f982e04145b50ad6eca9c03e37": {
      "model_module": "@jupyter-widgets/controls",
      "model_module_version": "1.1.0",
      "model_name": "SliderStyleModel",
      "state": {
       "description_width": ""
      }
     },
     "a8ea105627c5431a9e840b07030f7d32": {
      "model_module": "@jupyter-widgets/controls",
      "model_module_version": "1.1.0",
      "model_name": "ButtonModel",
      "state": {
       "description": "Calculate",
       "disabled": true,
       "icon": "check",
       "layout": "IPY_MODEL_ead615087bd8464ca961dcda8118a2bd",
       "style": "IPY_MODEL_f0987dcc30f64d2485bc858b529f4bf1",
       "tooltip": "Calculate"
      }
     },
     "a974ff0d65984a85a10f471106344571": {
      "model_module": "@jupyter-widgets/base",
      "model_module_version": "1.0.0",
      "model_name": "LayoutModel",
      "state": {}
     },
     "a99fc69502244930be8a24c202c898a0": {
      "model_module": "@jupyter-widgets/controls",
      "model_module_version": "1.1.0",
      "model_name": "ButtonModel",
      "state": {
       "description": "Calculate",
       "icon": "check",
       "layout": "IPY_MODEL_e54091df62104d0bbc0a738810252a60",
       "style": "IPY_MODEL_a20fb7e2f596494ab2217ace59159de2",
       "tooltip": "Calculate"
      }
     },
     "aa77a966f2964d9e9f555b8b30b6f18a": {
      "model_module": "@jupyter-widgets/controls",
      "model_module_version": "1.1.0",
      "model_name": "TextModel",
      "state": {
       "description": "Ion mass",
       "layout": "IPY_MODEL_b30f897eef864825a8a32cd727de5c61",
       "style": "IPY_MODEL_7f0d50e8db2b40bcb17a5aeb99909c93",
       "value": "2."
      }
     },
     "aa864dc9227f40d687abe0b7216a5d50": {
      "model_module": "@jupyter-widgets/controls",
      "model_module_version": "1.1.0",
      "model_name": "TextModel",
      "state": {
       "description": "Result",
       "layout": "IPY_MODEL_318e91d629d4453389d6f6f1b7c25eab",
       "style": "IPY_MODEL_e9e7cdbe00494e58882d3cf1b0b51846",
       "value": "8.0"
      }
     },
     "ab981bcbe76e4f1599fdb88682018364": {
      "model_module": "@jupyter-widgets/base",
      "model_module_version": "1.0.0",
      "model_name": "LayoutModel",
      "state": {}
     },
     "abbe4c50b0c444789c0f589116f4da1a": {
      "model_module": "@jupyter-widgets/controls",
      "model_module_version": "1.1.0",
      "model_name": "ButtonModel",
      "state": {
       "description": "Calculate",
       "icon": "check",
       "layout": "IPY_MODEL_5708ec3efb0f4942bef9b8cc4ed61a90",
       "style": "IPY_MODEL_0ba67ae958ed49cfa75a8d6061bccb22",
       "tooltip": "Calculate"
      }
     },
     "abd862a2e6bd49e8b18398e8481b666d": {
      "model_module": "@jupyter-widgets/base",
      "model_module_version": "1.0.0",
      "model_name": "LayoutModel",
      "state": {}
     },
     "acbffe3f1d7644309e4181adfb71df45": {
      "model_module": "@jupyter-widgets/controls",
      "model_module_version": "1.1.0",
      "model_name": "ButtonStyleModel",
      "state": {}
     },
     "ad20f16f1f554a2989b77ddaf64b1c19": {
      "model_module": "@jupyter-widgets/base",
      "model_module_version": "1.0.0",
      "model_name": "LayoutModel",
      "state": {}
     },
     "add03718fa6f4609a9002a1c41110225": {
      "model_module": "@jupyter-widgets/controls",
      "model_module_version": "1.1.0",
      "model_name": "ButtonStyleModel",
      "state": {}
     },
     "ae3793080f414247be064ad018e3b7ad": {
      "model_module": "@jupyter-widgets/base",
      "model_module_version": "1.0.0",
      "model_name": "LayoutModel",
      "state": {}
     },
     "ae88112baa2b420385247b11645e2ae0": {
      "model_module": "@jupyter-widgets/controls",
      "model_module_version": "1.1.0",
      "model_name": "ButtonModel",
      "state": {
       "description": "Calculate",
       "layout": "IPY_MODEL_15db39833b484d33b09451c912dad8bb",
       "style": "IPY_MODEL_91e73750231f4669b38fbffc9bb06baf"
      }
     },
     "aea4d0c8d3f54f0a8dfac16fcd144a6e": {
      "model_module": "@jupyter-widgets/controls",
      "model_module_version": "1.1.0",
      "model_name": "ButtonModel",
      "state": {
       "description": "Calculate",
       "layout": "IPY_MODEL_8e47257f0716493cbea110f6989de154",
       "style": "IPY_MODEL_4df2a7ebb5eb4da1bb63f7a946cc2c59"
      }
     },
     "af6deb092db3423bbc8db6e46ad07052": {
      "model_module": "@jupyter-widgets/base",
      "model_module_version": "1.0.0",
      "model_name": "LayoutModel",
      "state": {}
     },
     "b0066dded6224bb7bbe4d6215a35c24f": {
      "model_module": "@jupyter-widgets/controls",
      "model_module_version": "1.1.0",
      "model_name": "TextModel",
      "state": {
       "description": "Ion mass",
       "layout": "IPY_MODEL_fca5bd02e11c4e6f97a457fb35a6e655",
       "style": "IPY_MODEL_83231c2c44934b118d507eafdd156b37",
       "value": "Ion mass"
      }
     },
     "b02cb70013784972a756ddd1f8bf64c6": {
      "model_module": "@jupyter-widgets/controls",
      "model_module_version": "1.1.0",
      "model_name": "DescriptionStyleModel",
      "state": {
       "description_width": ""
      }
     },
     "b04ea548f03a45c591ed55b3dc9cd196": {
      "model_module": "@jupyter-widgets/controls",
      "model_module_version": "1.1.0",
      "model_name": "DescriptionStyleModel",
      "state": {
       "description_width": ""
      }
     },
     "b2de6c8406f344d9867c52e30f572b7f": {
      "model_module": "@jupyter-widgets/controls",
      "model_module_version": "1.1.0",
      "model_name": "ButtonStyleModel",
      "state": {}
     },
     "b30f897eef864825a8a32cd727de5c61": {
      "model_module": "@jupyter-widgets/base",
      "model_module_version": "1.0.0",
      "model_name": "LayoutModel",
      "state": {}
     },
     "b314e74af3e94850a9aa748c6a0d1d4f": {
      "model_module": "@jupyter-widgets/controls",
      "model_module_version": "1.1.0",
      "model_name": "DescriptionStyleModel",
      "state": {
       "description_width": ""
      }
     },
     "b37c157a210e4b0ebaf9e0b79a4f7886": {
      "model_module": "@jupyter-widgets/base",
      "model_module_version": "1.0.0",
      "model_name": "LayoutModel",
      "state": {}
     },
     "b4984a80e1614cab9b8fbc7369efe224": {
      "model_module": "@jupyter-widgets/controls",
      "model_module_version": "1.1.0",
      "model_name": "ButtonStyleModel",
      "state": {}
     },
     "b5e552a29a424cc597913720f68e4a7e": {
      "model_module": "@jupyter-widgets/base",
      "model_module_version": "1.0.0",
      "model_name": "LayoutModel",
      "state": {}
     },
     "b63b9f0b272c4b42a8e7727337e7deee": {
      "model_module": "@jupyter-widgets/controls",
      "model_module_version": "1.1.0",
      "model_name": "ButtonStyleModel",
      "state": {}
     },
     "b687c1f66c7a40959cb12216e2014850": {
      "model_module": "@jupyter-widgets/base",
      "model_module_version": "1.0.0",
      "model_name": "LayoutModel",
      "state": {}
     },
     "b72cba0f32144d5d891cd2d69a90ad8b": {
      "model_module": "@jupyter-widgets/controls",
      "model_module_version": "1.1.0",
      "model_name": "ButtonStyleModel",
      "state": {}
     },
     "b7ab067dd591427e8d9cd069d37eecad": {
      "model_module": "@jupyter-widgets/controls",
      "model_module_version": "1.1.0",
      "model_name": "DescriptionStyleModel",
      "state": {
       "description_width": ""
      }
     },
     "b7d0e11f3c4648b28d67f7dd65427804": {
      "model_module": "@jupyter-widgets/base",
      "model_module_version": "1.0.0",
      "model_name": "LayoutModel",
      "state": {}
     },
     "b9bf1a9a3b0d42fea81072da2eacd7b1": {
      "model_module": "@jupyter-widgets/base",
      "model_module_version": "1.0.0",
      "model_name": "LayoutModel",
      "state": {}
     },
     "ba4c7f48d3e240cd9b56cc7853e69be4": {
      "model_module": "@jupyter-widgets/controls",
      "model_module_version": "1.1.0",
      "model_name": "ButtonStyleModel",
      "state": {}
     },
     "bac6d88fd8cb4621b4d707b8e1495d81": {
      "model_module": "@jupyter-widgets/controls",
      "model_module_version": "1.1.0",
      "model_name": "TextModel",
      "state": {
       "description": "Ion mass",
       "layout": "IPY_MODEL_32bd65f6443d4bd083ab8fe7a56f75fd",
       "style": "IPY_MODEL_3aa7a75903b74f918016c9447b5077da",
       "value": "2"
      }
     },
     "bb3302b3d6d848d68b426b85bf2ceb8e": {
      "model_module": "@jupyter-widgets/controls",
      "model_module_version": "1.1.0",
      "model_name": "DescriptionStyleModel",
      "state": {
       "description_width": ""
      }
     },
     "bba483c3039e4487a26eea28ce27211d": {
      "model_module": "@jupyter-widgets/controls",
      "model_module_version": "1.1.0",
      "model_name": "ButtonStyleModel",
      "state": {}
     },
     "bba598859ee44f468210eb0e7e2db965": {
      "model_module": "@jupyter-widgets/controls",
      "model_module_version": "1.1.0",
      "model_name": "ButtonModel",
      "state": {
       "button_style": "danger",
       "description": "weight=1; auto",
       "layout": "IPY_MODEL_e5f47f6b5d79458291f3a644499e1cf2",
       "style": "IPY_MODEL_d622a17b2bdf483e86426b73e3884790"
      }
     },
     "bc287f508a4b40319ae97bcc770f988e": {
      "model_module": "@jupyter-widgets/controls",
      "model_module_version": "1.1.0",
      "model_name": "TextModel",
      "state": {
       "description": "Ion mass",
       "layout": "IPY_MODEL_36a44c0f76f54b7ea75bcc376bc1195a",
       "style": "IPY_MODEL_46cc84cdcfd8408697c42995a47e604e"
      }
     },
     "bc67851175244afb8c669f6aca6f735d": {
      "model_module": "@jupyter-widgets/controls",
      "model_module_version": "1.1.0",
      "model_name": "DescriptionStyleModel",
      "state": {
       "description_width": ""
      }
     },
     "bd0d154ad03e4b84903f95a62958040e": {
      "model_module": "@jupyter-widgets/controls",
      "model_module_version": "1.1.0",
      "model_name": "DescriptionStyleModel",
      "state": {
       "description_width": ""
      }
     },
     "bdda767fa6324b8dbd6ac7081870c30a": {
      "model_module": "@jupyter-widgets/controls",
      "model_module_version": "1.1.0",
      "model_name": "DescriptionStyleModel",
      "state": {
       "description_width": ""
      }
     },
     "be3db65c3cf0446e927ece037d282709": {
      "model_module": "@jupyter-widgets/controls",
      "model_module_version": "1.1.0",
      "model_name": "TextModel",
      "state": {
       "description": "Ion mass",
       "layout": "IPY_MODEL_abd862a2e6bd49e8b18398e8481b666d",
       "style": "IPY_MODEL_3da3385bff3c464ca2308f61b6a0c7ba",
       "value": "3."
      }
     },
     "bebae25492a04c239e8dacebbb45113a": {
      "model_module": "@jupyter-widgets/base",
      "model_module_version": "1.0.0",
      "model_name": "LayoutModel",
      "state": {}
     },
     "bebcf604b8c04cceb720f9369164355b": {
      "model_module": "@jupyter-widgets/controls",
      "model_module_version": "1.1.0",
      "model_name": "ButtonModel",
      "state": {
       "description": "Click Me!",
       "layout": "IPY_MODEL_81ca93ba175b4ccdb04c5fdc6fde0452",
       "style": "IPY_MODEL_1f531e4cec124dd685ccdcd1ec4e0b14"
      }
     },
     "bf7e02eb00c0447e939599a0712eabd3": {
      "model_module": "@jupyter-widgets/base",
      "model_module_version": "1.0.0",
      "model_name": "LayoutModel",
      "state": {}
     },
     "bf897f4ad4c04143893c05ac62075a5c": {
      "model_module": "@jupyter-widgets/controls",
      "model_module_version": "1.1.0",
      "model_name": "ButtonModel",
      "state": {
       "description": "Calculate",
       "layout": "IPY_MODEL_ea19ee974bc64010b2508f6823750727",
       "style": "IPY_MODEL_ca18439f22b14631aa92d277d35f2bdf"
      }
     },
     "bff17d1be36e411ca0b986d3a108a9e9": {
      "model_module": "@jupyter-widgets/controls",
      "model_module_version": "1.1.0",
      "model_name": "ButtonModel",
      "state": {
       "description": "Calculate",
       "layout": "IPY_MODEL_5d134e2c26de4e6c9c8526947a1e8c70",
       "style": "IPY_MODEL_125229cb3dd649349438f7231f6da9dc"
      }
     },
     "c120ea7a6fa7437abfcdac6c40383d34": {
      "model_module": "@jupyter-widgets/controls",
      "model_module_version": "1.1.0",
      "model_name": "DescriptionStyleModel",
      "state": {
       "description_width": ""
      }
     },
     "c169966cfcbe40a98c659c1a73f68bd6": {
      "model_module": "@jupyter-widgets/controls",
      "model_module_version": "1.1.0",
      "model_name": "DescriptionStyleModel",
      "state": {
       "description_width": ""
      }
     },
     "c2a0a9fa821a4de2847be6448c4154a0": {
      "model_module": "@jupyter-widgets/controls",
      "model_module_version": "1.1.0",
      "model_name": "DescriptionStyleModel",
      "state": {
       "description_width": ""
      }
     },
     "c2f059c516bd497bb8151453b6590ec4": {
      "model_module": "@jupyter-widgets/controls",
      "model_module_version": "1.1.0",
      "model_name": "ButtonStyleModel",
      "state": {}
     },
     "c355f5d780a84e9a993a3fdf9ae14c6c": {
      "model_module": "@jupyter-widgets/base",
      "model_module_version": "1.0.0",
      "model_name": "LayoutModel",
      "state": {}
     },
     "c47b19760f514a499964ece23986f895": {
      "model_module": "@jupyter-widgets/controls",
      "model_module_version": "1.1.0",
      "model_name": "TextModel",
      "state": {
       "description": "Ion mass",
       "layout": "IPY_MODEL_1e7b9f8fd9a64877b159ee63c25831cf",
       "style": "IPY_MODEL_b314e74af3e94850a9aa748c6a0d1d4f",
       "value": "2."
      }
     },
     "c4e7f3595c7040f9bc1751841d03b6f9": {
      "model_module": "@jupyter-widgets/base",
      "model_module_version": "1.0.0",
      "model_name": "LayoutModel",
      "state": {}
     },
     "c5181109c6df421f83d6a6de516c1bf8": {
      "model_module": "@jupyter-widgets/controls",
      "model_module_version": "1.1.0",
      "model_name": "ButtonModel",
      "state": {
       "description": "Click Me!",
       "layout": "IPY_MODEL_1aa5115bab3c48d3b20acb4558a3d21e",
       "style": "IPY_MODEL_829d3516d44f42b6a6cff81d522de9a3"
      }
     },
     "c576ad166a9a4e4590d70a1c48f3ab41": {
      "model_module": "@jupyter-widgets/controls",
      "model_module_version": "1.1.0",
      "model_name": "ButtonStyleModel",
      "state": {}
     },
     "c5c54f87d004453c9446576806c5dab3": {
      "model_module": "@jupyter-widgets/controls",
      "model_module_version": "1.1.0",
      "model_name": "ButtonStyleModel",
      "state": {}
     },
     "c5e1c40857444850aa19c3d9c22a0221": {
      "model_module": "@jupyter-widgets/controls",
      "model_module_version": "1.1.0",
      "model_name": "ButtonModel",
      "state": {
       "description": "Click Me!",
       "layout": "IPY_MODEL_4b47f79e33074c6887b765dfeb6d4bc3",
       "style": "IPY_MODEL_0c7183afb90a46ad89ac067cc6872260"
      }
     },
     "c669b852eb9a4f07839e259abca89abd": {
      "model_module": "@jupyter-widgets/controls",
      "model_module_version": "1.1.0",
      "model_name": "ButtonModel",
      "state": {
       "description": "Calculate",
       "layout": "IPY_MODEL_947456ebb8bf442b8b535fb20174479d",
       "style": "IPY_MODEL_dd335eea965b41ecaaaa997b0e6d6833"
      }
     },
     "c6ac138c27d744d7a0a6b324d413ad19": {
      "model_module": "@jupyter-widgets/controls",
      "model_module_version": "1.1.0",
      "model_name": "ButtonModel",
      "state": {
       "description": "Calculate",
       "layout": "IPY_MODEL_af6deb092db3423bbc8db6e46ad07052",
       "style": "IPY_MODEL_05e1731bf59d46dbbeb17647119371bb"
      }
     },
     "c6ffc8b0d210464098f99f202b8af103": {
      "model_module": "@jupyter-widgets/base",
      "model_module_version": "1.0.0",
      "model_name": "LayoutModel",
      "state": {}
     },
     "c84ab039d7d04291848735018245ee2d": {
      "model_module": "@jupyter-widgets/controls",
      "model_module_version": "1.1.0",
      "model_name": "DescriptionStyleModel",
      "state": {
       "description_width": ""
      }
     },
     "c87b386d3f374f79ab145e6e0758b121": {
      "model_module": "@jupyter-widgets/controls",
      "model_module_version": "1.1.0",
      "model_name": "ButtonModel",
      "state": {
       "description": "Calculate",
       "layout": "IPY_MODEL_f1b324a7e19f49adabb5178d0fcc2580",
       "style": "IPY_MODEL_668b3a820fb6453c8f93d8eda17175ce"
      }
     },
     "c8b574a49862462cb27fa85e75c80d2b": {
      "model_module": "@jupyter-widgets/base",
      "model_module_version": "1.0.0",
      "model_name": "LayoutModel",
      "state": {}
     },
     "c8f6f818315041ce9e839097abf6537f": {
      "model_module": "@jupyter-widgets/controls",
      "model_module_version": "1.1.0",
      "model_name": "ButtonModel",
      "state": {
       "description": "Click Me!",
       "layout": "IPY_MODEL_8ceac0feaf2d49889a8f212e6d0045c7",
       "style": "IPY_MODEL_8d8a8b612a4442f99ab9fd4302952760"
      }
     },
     "c9a3a653e065492eb558cfb7ffcfaefd": {
      "model_module": "@jupyter-widgets/controls",
      "model_module_version": "1.1.0",
      "model_name": "ButtonStyleModel",
      "state": {}
     },
     "ca18439f22b14631aa92d277d35f2bdf": {
      "model_module": "@jupyter-widgets/controls",
      "model_module_version": "1.1.0",
      "model_name": "ButtonStyleModel",
      "state": {}
     },
     "ca5dc020e2524652a7bfc262ec59c9e4": {
      "model_module": "@jupyter-widgets/controls",
      "model_module_version": "1.1.0",
      "model_name": "DescriptionStyleModel",
      "state": {
       "description_width": ""
      }
     },
     "cb35a93279e4434d944a6b3b550c4845": {
      "model_module": "@jupyter-widgets/controls",
      "model_module_version": "1.1.0",
      "model_name": "TextModel",
      "state": {
       "description": "Ion mass",
       "layout": "IPY_MODEL_c355f5d780a84e9a993a3fdf9ae14c6c",
       "style": "IPY_MODEL_e1efcea19ab04be099b7635b0728f0da",
       "value": "Ion mass"
      }
     },
     "cb46b0e637a942f9a6e770bccbedcb4c": {
      "model_module": "@jupyter-widgets/base",
      "model_module_version": "1.0.0",
      "model_name": "LayoutModel",
      "state": {}
     },
     "cb714e5a6c4f48cfacf102cfb45a7412": {
      "model_module": "@jupyter-widgets/base",
      "model_module_version": "1.0.0",
      "model_name": "LayoutModel",
      "state": {}
     },
     "cdb65a911a5f46a1bc4e48e942d8af76": {
      "model_module": "@jupyter-widgets/controls",
      "model_module_version": "1.1.0",
      "model_name": "ButtonModel",
      "state": {
       "description": "Calculate",
       "layout": "IPY_MODEL_f8c2e234530746429bcbe16e35c25d59",
       "style": "IPY_MODEL_882c67eea9aa4f3fbd03f1973c971cd1"
      }
     },
     "cddc77fc60dd4221962800ef584259cc": {
      "model_module": "@jupyter-widgets/controls",
      "model_module_version": "1.1.0",
      "model_name": "DescriptionStyleModel",
      "state": {
       "description_width": ""
      }
     },
     "ce093f61b3af4aaaa3a77240ba3ab2bb": {
      "model_module": "@jupyter-widgets/controls",
      "model_module_version": "1.1.0",
      "model_name": "ButtonStyleModel",
      "state": {}
     },
     "ce4375899e9d4180a072d469c3176d09": {
      "model_module": "@jupyter-widgets/controls",
      "model_module_version": "1.1.0",
      "model_name": "DescriptionStyleModel",
      "state": {
       "description_width": ""
      }
     },
     "cf5c74b40bbc4964ba59eedbf0c8c0a4": {
      "model_module": "@jupyter-widgets/controls",
      "model_module_version": "1.1.0",
      "model_name": "ButtonModel",
      "state": {
       "description": "Calculate",
       "layout": "IPY_MODEL_4ea9ffef14af48308875bdb1d66a5ac2",
       "style": "IPY_MODEL_9774fe7078db4c94986e496af990df07"
      }
     },
     "cf9a672fc41c4161ae5aa015dc81d346": {
      "model_module": "@jupyter-widgets/controls",
      "model_module_version": "1.1.0",
      "model_name": "ButtonStyleModel",
      "state": {}
     },
     "d00be50ecc4d4565814828b459c430ee": {
      "model_module": "@jupyter-widgets/controls",
      "model_module_version": "1.1.0",
      "model_name": "DescriptionStyleModel",
      "state": {
       "description_width": ""
      }
     },
     "d190c39a401e4c42899c84e002162c03": {
      "model_module": "@jupyter-widgets/controls",
      "model_module_version": "1.1.0",
      "model_name": "ButtonModel",
      "state": {
       "description": "Calculate",
       "layout": "IPY_MODEL_b37c157a210e4b0ebaf9e0b79a4f7886",
       "style": "IPY_MODEL_dab3338c6be9489eab8b9bcd445f909a"
      }
     },
     "d292bc7219f6490ca9e7b13305cee57d": {
      "model_module": "@jupyter-widgets/base",
      "model_module_version": "1.0.0",
      "model_name": "LayoutModel",
      "state": {}
     },
     "d3bfc298de9546aca7c104e7bc4c2e0e": {
      "model_module": "@jupyter-widgets/controls",
      "model_module_version": "1.1.0",
      "model_name": "ButtonStyleModel",
      "state": {}
     },
     "d40d930cd54e423c848ff867d61391e9": {
      "model_module": "@jupyter-widgets/base",
      "model_module_version": "1.0.0",
      "model_name": "LayoutModel",
      "state": {}
     },
     "d4aced85434a43f9b0a60bfed1297809": {
      "model_module": "@jupyter-widgets/controls",
      "model_module_version": "1.1.0",
      "model_name": "TextModel",
      "state": {
       "description": "Ion mass",
       "layout": "IPY_MODEL_6ab19238975b4ae58ee3fe32ea8f617b",
       "style": "IPY_MODEL_728dd5a6f7214c53be575fb523a20bdd",
       "value": "Ion mass"
      }
     },
     "d5b05419168c47928f9087ad5a79c36b": {
      "model_module": "@jupyter-widgets/controls",
      "model_module_version": "1.1.0",
      "model_name": "TextModel",
      "state": {
       "description": "Ion mass",
       "layout": "IPY_MODEL_124cd8bfca0443898e99b5c9ee0b250d",
       "style": "IPY_MODEL_411b55e3ff144a84bb2e7e8a26a50753",
       "value": "2.0"
      }
     },
     "d5c3a82493884d3abf8ee3be3f8b8695": {
      "model_module": "@jupyter-widgets/controls",
      "model_module_version": "1.1.0",
      "model_name": "TextModel",
      "state": {
       "description": "Ion mass",
       "layout": "IPY_MODEL_5e769e3fff6e4abd8fe713830f47d8a9",
       "style": "IPY_MODEL_807d5fefa98441bfb047a75bf2246723",
       "value": "2."
      }
     },
     "d5cd351883d24c6ea0dd796043a54262": {
      "model_module": "@jupyter-widgets/base",
      "model_module_version": "1.0.0",
      "model_name": "LayoutModel",
      "state": {}
     },
     "d5cfe44b238e44b3a6833f3bef6b4371": {
      "model_module": "@jupyter-widgets/base",
      "model_module_version": "1.0.0",
      "model_name": "LayoutModel",
      "state": {}
     },
     "d6148a29f69945d4a378339b340068b9": {
      "model_module": "@jupyter-widgets/base",
      "model_module_version": "1.0.0",
      "model_name": "LayoutModel",
      "state": {}
     },
     "d622a17b2bdf483e86426b73e3884790": {
      "model_module": "@jupyter-widgets/controls",
      "model_module_version": "1.1.0",
      "model_name": "ButtonStyleModel",
      "state": {}
     },
     "d6237ba7e3174ffbb17fff6af248d3c6": {
      "model_module": "@jupyter-widgets/controls",
      "model_module_version": "1.1.0",
      "model_name": "TextModel",
      "state": {
       "description": "Ion mass",
       "layout": "IPY_MODEL_3d972bcfe0c644949c3ade92a549e103",
       "style": "IPY_MODEL_113cb7229a834445a353b537b3d1f74b",
       "value": "Ion mass"
      }
     },
     "d64c108e041742c0b8f7ad77a029985a": {
      "model_module": "@jupyter-widgets/controls",
      "model_module_version": "1.1.0",
      "model_name": "ButtonModel",
      "state": {
       "description": "Calculate",
       "icon": "check",
       "layout": "IPY_MODEL_8a454a385c4d403b8398406c6c32a6e2",
       "style": "IPY_MODEL_a30026e9777a4ee5a840cb73c147109e",
       "tooltip": "Calculate"
      }
     },
     "d705daf610944cc59c2476dbb91a4c34": {
      "model_module": "@jupyter-widgets/controls",
      "model_module_version": "1.1.0",
      "model_name": "DescriptionStyleModel",
      "state": {
       "description_width": ""
      }
     },
     "d7d5351e99d64f8da1b027862e1652ee": {
      "model_module": "@jupyter-widgets/base",
      "model_module_version": "1.0.0",
      "model_name": "LayoutModel",
      "state": {}
     },
     "d808e6305c5844a4a5fe824650655ae5": {
      "model_module": "@jupyter-widgets/controls",
      "model_module_version": "1.1.0",
      "model_name": "TextModel",
      "state": {
       "description": "Ion mass",
       "layout": "IPY_MODEL_6a0e7ebd26114ec3a48068f7490f9052",
       "style": "IPY_MODEL_b02cb70013784972a756ddd1f8bf64c6",
       "value": "Ion mass"
      }
     },
     "d8794bbbbb7741dcb5b6ce7dd6bc6445": {
      "model_module": "@jupyter-widgets/base",
      "model_module_version": "1.0.0",
      "model_name": "LayoutModel",
      "state": {}
     },
     "d967c2989fe44e4ca25d1b7efc03bb0c": {
      "model_module": "@jupyter-widgets/controls",
      "model_module_version": "1.1.0",
      "model_name": "TextModel",
      "state": {
       "description": "Ion mass",
       "layout": "IPY_MODEL_82b6dee7da494268b88d0f7fd5ce4780",
       "style": "IPY_MODEL_77c2b4ba595b45ac82b56a65e9edf185",
       "value": "Ion mass"
      }
     },
     "d97c2837e7824db99d5de0b39c606954": {
      "model_module": "@jupyter-widgets/controls",
      "model_module_version": "1.1.0",
      "model_name": "DescriptionStyleModel",
      "state": {
       "description_width": ""
      }
     },
     "da871281d8c742f8b17f1bcf5ad8084b": {
      "model_module": "@jupyter-widgets/controls",
      "model_module_version": "1.1.0",
      "model_name": "ButtonModel",
      "state": {
       "description": "Calculate",
       "layout": "IPY_MODEL_9eaf033d4b104d8fa7cec6fff91a008d",
       "style": "IPY_MODEL_4a2e4ab7e5fd4b5bbff3e743dd3123c5"
      }
     },
     "dab3338c6be9489eab8b9bcd445f909a": {
      "model_module": "@jupyter-widgets/controls",
      "model_module_version": "1.1.0",
      "model_name": "ButtonStyleModel",
      "state": {}
     },
     "db2190ddcd784ca6bbeed0a4a06486c1": {
      "model_module": "@jupyter-widgets/controls",
      "model_module_version": "1.1.0",
      "model_name": "TextModel",
      "state": {
       "description": "Ion mass",
       "layout": "IPY_MODEL_e55145ad9f42429991a329c365daff2a",
       "style": "IPY_MODEL_6f37c59cf6b34d15adf5d5ef7bff48a1",
       "value": "4"
      }
     },
     "db89d362e45c40258d69c61be09d17ea": {
      "model_module": "@jupyter-widgets/base",
      "model_module_version": "1.0.0",
      "model_name": "LayoutModel",
      "state": {}
     },
     "dcff62c587c6400491ff363a1be49d7d": {
      "model_module": "@jupyter-widgets/controls",
      "model_module_version": "1.1.0",
      "model_name": "ButtonStyleModel",
      "state": {}
     },
     "dd335eea965b41ecaaaa997b0e6d6833": {
      "model_module": "@jupyter-widgets/controls",
      "model_module_version": "1.1.0",
      "model_name": "ButtonStyleModel",
      "state": {}
     },
     "de75b27d6cd4444b936539bc356033d3": {
      "model_module": "@jupyter-widgets/controls",
      "model_module_version": "1.1.0",
      "model_name": "ButtonModel",
      "state": {
       "description": "Calculate",
       "layout": "IPY_MODEL_96bb069bd6ca417789b9c4a7ca351628",
       "style": "IPY_MODEL_582f27c526764683b88e84e971b85d4b"
      }
     },
     "ded9f6023e1642c886316b8f539440d2": {
      "model_module": "@jupyter-widgets/base",
      "model_module_version": "1.0.0",
      "model_name": "LayoutModel",
      "state": {}
     },
     "df1c0f7032234b248c0da4f418a3db54": {
      "model_module": "@jupyter-widgets/controls",
      "model_module_version": "1.1.0",
      "model_name": "ButtonStyleModel",
      "state": {}
     },
     "df304d5ac6ff4e9690f24b3b97e99d96": {
      "model_module": "@jupyter-widgets/controls",
      "model_module_version": "1.1.0",
      "model_name": "TextModel",
      "state": {
       "description": "Ion mass",
       "layout": "IPY_MODEL_d6148a29f69945d4a378339b340068b9",
       "style": "IPY_MODEL_d00be50ecc4d4565814828b459c430ee",
       "value": "Ion mass"
      }
     },
     "df38b19cce364e42ab0accb4105019b2": {
      "model_module": "@jupyter-widgets/controls",
      "model_module_version": "1.1.0",
      "model_name": "SliderStyleModel",
      "state": {
       "description_width": ""
      }
     },
     "e132dd73b6154f31b318f12b3ba42e61": {
      "model_module": "@jupyter-widgets/controls",
      "model_module_version": "1.1.0",
      "model_name": "ButtonStyleModel",
      "state": {}
     },
     "e13ace79227b4da4909ebd79336638eb": {
      "model_module": "@jupyter-widgets/controls",
      "model_module_version": "1.1.0",
      "model_name": "TextModel",
      "state": {
       "description": "Ion mass",
       "layout": "IPY_MODEL_d8794bbbbb7741dcb5b6ce7dd6bc6445",
       "style": "IPY_MODEL_b04ea548f03a45c591ed55b3dc9cd196",
       "value": "0."
      }
     },
     "e173dfa0d13543a2bd453f02bcba16f1": {
      "model_module": "@jupyter-widgets/base",
      "model_module_version": "1.0.0",
      "model_name": "LayoutModel",
      "state": {}
     },
     "e17bf18430df4b1d907fd509008c6471": {
      "model_module": "@jupyter-widgets/controls",
      "model_module_version": "1.1.0",
      "model_name": "DescriptionStyleModel",
      "state": {
       "description_width": ""
      }
     },
     "e1830fec8af84dcca25fa9ebda1c6dcd": {
      "model_module": "@jupyter-widgets/controls",
      "model_module_version": "1.1.0",
      "model_name": "ButtonModel",
      "state": {
       "description": "Click Me!",
       "layout": "IPY_MODEL_258bd62fbf10458da510f323e0159754",
       "style": "IPY_MODEL_b63b9f0b272c4b42a8e7727337e7deee"
      }
     },
     "e1efcea19ab04be099b7635b0728f0da": {
      "model_module": "@jupyter-widgets/controls",
      "model_module_version": "1.1.0",
      "model_name": "DescriptionStyleModel",
      "state": {
       "description_width": ""
      }
     },
     "e279ecbb308148bdb5d2e8ead0102f77": {
      "model_module": "@jupyter-widgets/base",
      "model_module_version": "1.0.0",
      "model_name": "LayoutModel",
      "state": {}
     },
     "e339076a9d794de0940b696bc5295872": {
      "model_module": "@jupyter-widgets/base",
      "model_module_version": "1.0.0",
      "model_name": "LayoutModel",
      "state": {}
     },
     "e36cafa7d1ad487d99fe54bbd1806249": {
      "model_module": "@jupyter-widgets/base",
      "model_module_version": "1.0.0",
      "model_name": "LayoutModel",
      "state": {}
     },
     "e383eab0fdf94cf9ae37281393d6a012": {
      "model_module": "@jupyter-widgets/controls",
      "model_module_version": "1.1.0",
      "model_name": "ButtonModel",
      "state": {
       "description": "Calculate",
       "layout": "IPY_MODEL_5b3bf3254bf14348ba5562514fa81865",
       "style": "IPY_MODEL_973e99d97707490489fce9afbd22a8e0"
      }
     },
     "e3d29751a38e41e48df79d858aa3caca": {
      "model_module": "@jupyter-widgets/base",
      "model_module_version": "1.0.0",
      "model_name": "LayoutModel",
      "state": {}
     },
     "e411deafd9bb43388a3dc8c73406327c": {
      "model_module": "@jupyter-widgets/controls",
      "model_module_version": "1.1.0",
      "model_name": "ButtonModel",
      "state": {
       "description": "Click Me!",
       "layout": "IPY_MODEL_994982c5fd1c4a96b4fb9a4a97579c4d",
       "style": "IPY_MODEL_13139c59915948cea2fc6acc4ae509ec"
      }
     },
     "e49397615aea4e759fbc4806135a96ae": {
      "model_module": "@jupyter-widgets/controls",
      "model_module_version": "1.1.0",
      "model_name": "TextModel",
      "state": {
       "description": "Ion mass",
       "layout": "IPY_MODEL_06b9c7ae498d44cdb13879ca60bda2ea",
       "style": "IPY_MODEL_95f9b90ae0244ee38a23cbdf66d10645",
       "value": "10"
      }
     },
     "e535f22c97b7481c8507cff6fde860ee": {
      "model_module": "@jupyter-widgets/base",
      "model_module_version": "1.0.0",
      "model_name": "LayoutModel",
      "state": {}
     },
     "e54091df62104d0bbc0a738810252a60": {
      "model_module": "@jupyter-widgets/base",
      "model_module_version": "1.0.0",
      "model_name": "LayoutModel",
      "state": {}
     },
     "e55145ad9f42429991a329c365daff2a": {
      "model_module": "@jupyter-widgets/base",
      "model_module_version": "1.0.0",
      "model_name": "LayoutModel",
      "state": {}
     },
     "e5beb1b328ea4ed1b669583a1820d0c7": {
      "model_module": "@jupyter-widgets/controls",
      "model_module_version": "1.1.0",
      "model_name": "TextModel",
      "state": {
       "description": "Ion mass",
       "layout": "IPY_MODEL_a974ff0d65984a85a10f471106344571",
       "style": "IPY_MODEL_024843ea50b0429baa73a37463a94811",
       "value": "2"
      }
     },
     "e5f47f6b5d79458291f3a644499e1cf2": {
      "model_module": "@jupyter-widgets/base",
      "model_module_version": "1.0.0",
      "model_name": "LayoutModel",
      "state": {
       "flex": "1 1 auto",
       "width": "auto"
      }
     },
     "e631daa8bbfe4d159b0031bee9a5568e": {
      "model_module": "@jupyter-widgets/base",
      "model_module_version": "1.0.0",
      "model_name": "LayoutModel",
      "state": {
       "flex": "3 1 auto",
       "width": "auto"
      }
     },
     "e6a574199a56427ebb21ed298f8c3501": {
      "model_module": "@jupyter-widgets/controls",
      "model_module_version": "1.1.0",
      "model_name": "ButtonModel",
      "state": {
       "description": "Calculate",
       "layout": "IPY_MODEL_a5d49d0472664d36b8b856f4ea5d8451",
       "style": "IPY_MODEL_0067aae166974d0c998ce897ad92fd9c"
      }
     },
     "e7a6aa239e6a4b4aa43e03970246bee9": {
      "model_module": "@jupyter-widgets/controls",
      "model_module_version": "1.1.0",
      "model_name": "ButtonModel",
      "state": {
       "description": "Calculate",
       "layout": "IPY_MODEL_83784e7c98884195bbca309a01bf6c32",
       "style": "IPY_MODEL_c9a3a653e065492eb558cfb7ffcfaefd"
      }
     },
     "e7c1705056db4c8ba804fe9ca961866d": {
      "model_module": "@jupyter-widgets/controls",
      "model_module_version": "1.1.0",
      "model_name": "TextModel",
      "state": {
       "description": "Ion mass",
       "layout": "IPY_MODEL_1b3cba7afb354936be78e817b1450934",
       "style": "IPY_MODEL_13dfb4d24139497a927e2a811e3af1e9",
       "value": "2."
      }
     },
     "e7eb236fd9b944fdaebbf80256389911": {
      "model_module": "@jupyter-widgets/base",
      "model_module_version": "1.0.0",
      "model_name": "LayoutModel",
      "state": {}
     },
     "e8f1789e0e0649fbbc7e54c3e25bd3d3": {
      "model_module": "@jupyter-widgets/controls",
      "model_module_version": "1.1.0",
      "model_name": "ButtonModel",
      "state": {
       "description": "Calculate",
       "icon": "check",
       "layout": "IPY_MODEL_22676f6d9cf94247948949df8ed30f7d",
       "style": "IPY_MODEL_a271ea5e2b5545c69415b1367e382cf9",
       "tooltip": "Calculate"
      }
     },
     "e93a6f6eae3347f48c09a1b21c48d8f7": {
      "model_module": "@jupyter-widgets/controls",
      "model_module_version": "1.1.0",
      "model_name": "ButtonModel",
      "state": {
       "description": "Click Me!",
       "layout": "IPY_MODEL_190baf34cb7947ba95b517371bca704a",
       "style": "IPY_MODEL_acbffe3f1d7644309e4181adfb71df45"
      }
     },
     "e9bf016bd7bc4532b21b4db31bb7f500": {
      "model_module": "@jupyter-widgets/base",
      "model_module_version": "1.0.0",
      "model_name": "LayoutModel",
      "state": {}
     },
     "e9e35781ba1f4844bf463bab0b43531a": {
      "model_module": "@jupyter-widgets/controls",
      "model_module_version": "1.1.0",
      "model_name": "ButtonStyleModel",
      "state": {}
     },
     "e9e7cdbe00494e58882d3cf1b0b51846": {
      "model_module": "@jupyter-widgets/controls",
      "model_module_version": "1.1.0",
      "model_name": "DescriptionStyleModel",
      "state": {
       "description_width": ""
      }
     },
     "ea19ee974bc64010b2508f6823750727": {
      "model_module": "@jupyter-widgets/base",
      "model_module_version": "1.0.0",
      "model_name": "LayoutModel",
      "state": {}
     },
     "ea3e90bd63534fbc8342c0fc583eb801": {
      "model_module": "@jupyter-widgets/controls",
      "model_module_version": "1.1.0",
      "model_name": "ButtonModel",
      "state": {
       "description": "Calculate",
       "layout": "IPY_MODEL_04407607f94341f09ce7fedc811f73eb",
       "style": "IPY_MODEL_f7d728ea47234289aac83fe04dfaf0e3"
      }
     },
     "ead615087bd8464ca961dcda8118a2bd": {
      "model_module": "@jupyter-widgets/base",
      "model_module_version": "1.0.0",
      "model_name": "LayoutModel",
      "state": {}
     },
     "eae3dcdc37e74c81987e40cb5bebeaf2": {
      "model_module": "@jupyter-widgets/controls",
      "model_module_version": "1.1.0",
      "model_name": "ButtonModel",
      "state": {
       "description": "Calculate",
       "icon": "check",
       "layout": "IPY_MODEL_4be2d2a75ae048688f243835cd57e3bc",
       "style": "IPY_MODEL_2c284843691e4fc18de4342af219e3ec",
       "tooltip": "Calculate"
      }
     },
     "eb7a1ed0b9a848e3895b714bfc5addf8": {
      "model_module": "@jupyter-widgets/base",
      "model_module_version": "1.0.0",
      "model_name": "LayoutModel",
      "state": {}
     },
     "ec6e1b6a98ea4dee8d4814be6e9a75f7": {
      "model_module": "@jupyter-widgets/controls",
      "model_module_version": "1.1.0",
      "model_name": "DescriptionStyleModel",
      "state": {
       "description_width": ""
      }
     },
     "ed3061a1d1e9497aa405c41736405f6c": {
      "model_module": "@jupyter-widgets/controls",
      "model_module_version": "1.1.0",
      "model_name": "DescriptionStyleModel",
      "state": {
       "description_width": ""
      }
     },
     "ed77c9405465415c92d7bd16d9ef75df": {
      "model_module": "@jupyter-widgets/base",
      "model_module_version": "1.0.0",
      "model_name": "LayoutModel",
      "state": {}
     },
     "eda0b30a10d444218f0a2ba86b39f4ce": {
      "model_module": "@jupyter-widgets/controls",
      "model_module_version": "1.1.0",
      "model_name": "TextModel",
      "state": {
       "description": "Ion mass",
       "layout": "IPY_MODEL_d5cfe44b238e44b3a6833f3bef6b4371",
       "style": "IPY_MODEL_913a5b593234465cb31322d3199bbd5d",
       "value": "Ion mass"
      }
     },
     "edbc8eac2914413a9afade4c597efe5a": {
      "model_module": "@jupyter-widgets/controls",
      "model_module_version": "1.1.0",
      "model_name": "TextModel",
      "state": {
       "description": "Ion mass",
       "layout": "IPY_MODEL_689a8df5afe5478ebd619de5860a04ac",
       "style": "IPY_MODEL_53bd4821f6c746f89751d1b191b72cdd",
       "value": "2"
      }
     },
     "ee6e53f262104332afe5827145ca8e49": {
      "model_module": "@jupyter-widgets/base",
      "model_module_version": "1.0.0",
      "model_name": "LayoutModel",
      "state": {}
     },
     "ee95387640e74e5a9451d307de29e6d6": {
      "model_module": "@jupyter-widgets/controls",
      "model_module_version": "1.1.0",
      "model_name": "ButtonModel",
      "state": {
       "description": "Calculate",
       "layout": "IPY_MODEL_9924a7ddd9a6465c9ea2025b773dc6a3",
       "style": "IPY_MODEL_7f94c89854224483bdc4bdc3bb35e327"
      }
     },
     "eecbc120b00f4ea498686f281f29c04d": {
      "model_module": "@jupyter-widgets/controls",
      "model_module_version": "1.1.0",
      "model_name": "DescriptionStyleModel",
      "state": {
       "description_width": ""
      }
     },
     "ef7d383eea13442e86fe067079108ed9": {
      "model_module": "@jupyter-widgets/base",
      "model_module_version": "1.0.0",
      "model_name": "LayoutModel",
      "state": {}
     },
     "efec81ca516a4a32bdfc856a33ddc162": {
      "model_module": "@jupyter-widgets/controls",
      "model_module_version": "1.1.0",
      "model_name": "TextModel",
      "state": {
       "description": "Ion mass",
       "layout": "IPY_MODEL_f951f772cf3e4db6a5714131896be0ee",
       "style": "IPY_MODEL_bb3302b3d6d848d68b426b85bf2ceb8e",
       "value": "2."
      }
     },
     "f05474e7cc7d40deb6824e8a06be0272": {
      "model_module": "@jupyter-widgets/base",
      "model_module_version": "1.0.0",
      "model_name": "LayoutModel",
      "state": {}
     },
     "f0987dcc30f64d2485bc858b529f4bf1": {
      "model_module": "@jupyter-widgets/controls",
      "model_module_version": "1.1.0",
      "model_name": "ButtonStyleModel",
      "state": {}
     },
     "f0bfffcb369443feba40726cd6d5ae07": {
      "model_module": "@jupyter-widgets/controls",
      "model_module_version": "1.1.0",
      "model_name": "ButtonModel",
      "state": {
       "description": "Calculate",
       "layout": "IPY_MODEL_d7d5351e99d64f8da1b027862e1652ee",
       "style": "IPY_MODEL_68342f9672fc4e09aaa380cec82b1e65"
      }
     },
     "f0e6b49cddb1434ca659a4dcc64704c4": {
      "model_module": "@jupyter-widgets/controls",
      "model_module_version": "1.1.0",
      "model_name": "DescriptionStyleModel",
      "state": {
       "description_width": ""
      }
     },
     "f1475b59d9e54ce4aac28a58846057de": {
      "model_module": "@jupyter-widgets/controls",
      "model_module_version": "1.1.0",
      "model_name": "DescriptionStyleModel",
      "state": {
       "description_width": ""
      }
     },
     "f1b324a7e19f49adabb5178d0fcc2580": {
      "model_module": "@jupyter-widgets/base",
      "model_module_version": "1.0.0",
      "model_name": "LayoutModel",
      "state": {}
     },
     "f286c7a4a4ff4080a53b37833aeca8c5": {
      "model_module": "@jupyter-widgets/base",
      "model_module_version": "1.0.0",
      "model_name": "LayoutModel",
      "state": {}
     },
     "f4c3d29a76904b08b0ea01b000ecd3e7": {
      "model_module": "@jupyter-widgets/controls",
      "model_module_version": "1.1.0",
      "model_name": "ButtonModel",
      "state": {
       "description": "Calculate",
       "layout": "IPY_MODEL_ffefa44403b248e59a48a73cbcbcc0a6",
       "style": "IPY_MODEL_95fe6e6670514e57acab7fdda57139d3"
      }
     },
     "f580d3fbe0b043bfa06ca79cf3e255f1": {
      "model_module": "@jupyter-widgets/base",
      "model_module_version": "1.0.0",
      "model_name": "LayoutModel",
      "state": {}
     },
     "f5afe46fdf8648738534e2a3dff8ab72": {
      "model_module": "@jupyter-widgets/controls",
      "model_module_version": "1.1.0",
      "model_name": "TextModel",
      "state": {
       "description": "Result",
       "layout": "IPY_MODEL_f05474e7cc7d40deb6824e8a06be0272",
       "style": "IPY_MODEL_cddc77fc60dd4221962800ef584259cc",
       "value": "0."
      }
     },
     "f679780c4f7743d093d3cc86fae66224": {
      "model_module": "@jupyter-widgets/controls",
      "model_module_version": "1.1.0",
      "model_name": "TextModel",
      "state": {
       "description": "Ion mass",
       "layout": "IPY_MODEL_e9bf016bd7bc4532b21b4db31bb7f500",
       "style": "IPY_MODEL_ed3061a1d1e9497aa405c41736405f6c",
       "value": "Ion mass"
      }
     },
     "f747ede9f1cb4d22b935afd15fa7bb2b": {
      "model_module": "@jupyter-widgets/base",
      "model_module_version": "1.0.0",
      "model_name": "LayoutModel",
      "state": {}
     },
     "f7a274fcdaed416fb70f14b961c88802": {
      "model_module": "@jupyter-widgets/base",
      "model_module_version": "1.0.0",
      "model_name": "LayoutModel",
      "state": {}
     },
     "f7d728ea47234289aac83fe04dfaf0e3": {
      "model_module": "@jupyter-widgets/controls",
      "model_module_version": "1.1.0",
      "model_name": "ButtonStyleModel",
      "state": {}
     },
     "f8c2e234530746429bcbe16e35c25d59": {
      "model_module": "@jupyter-widgets/base",
      "model_module_version": "1.0.0",
      "model_name": "LayoutModel",
      "state": {}
     },
     "f951f772cf3e4db6a5714131896be0ee": {
      "model_module": "@jupyter-widgets/base",
      "model_module_version": "1.0.0",
      "model_name": "LayoutModel",
      "state": {}
     },
     "f9df1e1b7c9943238843c0d4dfe70781": {
      "model_module": "@jupyter-widgets/controls",
      "model_module_version": "1.1.0",
      "model_name": "DescriptionStyleModel",
      "state": {
       "description_width": ""
      }
     },
     "f9fc3fad14e44fa2980ca72a6d129b30": {
      "model_module": "@jupyter-widgets/controls",
      "model_module_version": "1.1.0",
      "model_name": "TextModel",
      "state": {
       "description": "Ion mass",
       "layout": "IPY_MODEL_cb714e5a6c4f48cfacf102cfb45a7412",
       "style": "IPY_MODEL_515639bd71cb48a287473afa9b4bebc3",
       "value": "Ion mass"
      }
     },
     "fa625ef2f52144f8819984fce53d541b": {
      "model_module": "@jupyter-widgets/controls",
      "model_module_version": "1.1.0",
      "model_name": "ButtonModel",
      "state": {
       "description": "Click Me!",
       "layout": "IPY_MODEL_24a057dc00a045099390b1b03bd67a3f",
       "style": "IPY_MODEL_c2f059c516bd497bb8151453b6590ec4"
      }
     },
     "fa8b0ea6f50d4318be02396906d2deb1": {
      "model_module": "@jupyter-widgets/controls",
      "model_module_version": "1.1.0",
      "model_name": "DescriptionStyleModel",
      "state": {
       "description_width": ""
      }
     },
     "fb0d58c07eed4c79a19c51f4b91f7b13": {
      "model_module": "@jupyter-widgets/controls",
      "model_module_version": "1.1.0",
      "model_name": "ButtonStyleModel",
      "state": {}
     },
     "fb5f13a7dfba49619020282d58b4ab52": {
      "model_module": "@jupyter-widgets/base",
      "model_module_version": "1.0.0",
      "model_name": "LayoutModel",
      "state": {}
     },
     "fb974c86d7bd4051960da26ad3503506": {
      "model_module": "@jupyter-widgets/base",
      "model_module_version": "1.0.0",
      "model_name": "LayoutModel",
      "state": {
       "flex": "1 1 0%",
       "width": "auto"
      }
     },
     "fc4d21a6a212402da344d94d3703686d": {
      "model_module": "@jupyter-widgets/base",
      "model_module_version": "1.0.0",
      "model_name": "LayoutModel",
      "state": {}
     },
     "fc85ce7cf45b4e21bbe22f1f1626cd3b": {
      "model_module": "@jupyter-widgets/controls",
      "model_module_version": "1.1.0",
      "model_name": "TextModel",
      "state": {
       "description": "Result",
       "layout": "IPY_MODEL_434f4fc5f77943eea3670dab5d981418",
       "style": "IPY_MODEL_6b3d0966116c48fa8ea99681c586dbe6",
       "value": "4.0"
      }
     },
     "fca5bd02e11c4e6f97a457fb35a6e655": {
      "model_module": "@jupyter-widgets/base",
      "model_module_version": "1.0.0",
      "model_name": "LayoutModel",
      "state": {}
     },
     "fe38c1780b614fbbbaea4694ac67445f": {
      "model_module": "@jupyter-widgets/base",
      "model_module_version": "1.0.0",
      "model_name": "LayoutModel",
      "state": {}
     },
     "fef54d820451403dbd253012a11f3a5c": {
      "model_module": "@jupyter-widgets/base",
      "model_module_version": "1.0.0",
      "model_name": "LayoutModel",
      "state": {}
     },
     "ffefa44403b248e59a48a73cbcbcc0a6": {
      "model_module": "@jupyter-widgets/base",
      "model_module_version": "1.0.0",
      "model_name": "LayoutModel",
      "state": {}
     }
    },
    "version_major": 2,
    "version_minor": 0
   }
  }
 },
 "nbformat": 4,
 "nbformat_minor": 2
}
